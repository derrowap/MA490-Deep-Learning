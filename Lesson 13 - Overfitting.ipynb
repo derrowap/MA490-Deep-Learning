{
 "cells": [
  {
   "cell_type": "markdown",
   "metadata": {},
   "source": [
    "# Lesson 13 - Overfitting\n",
    "Austin Derrow-Pinion"
   ]
  },
  {
   "cell_type": "code",
   "execution_count": 1,
   "metadata": {
    "collapsed": true
   },
   "outputs": [],
   "source": [
    "import numpy as np\n",
    "import pandas as pd\n",
    "import tensorflow as tf\n",
    "import matplotlib.pyplot as plt\n",
    "%matplotlib inline"
   ]
  },
  {
   "cell_type": "code",
   "execution_count": 3,
   "metadata": {
    "collapsed": false
   },
   "outputs": [
    {
     "name": "stdout",
     "output_type": "stream",
     "text": [
      "Train keys:  ['train_images', 'train_labels']\n",
      "Test keys:   ['test_images', 'test_labels']\n"
     ]
    }
   ],
   "source": [
    "train = np.load('./Data/notMNIST_train_100.npz')\n",
    "test = np.load('./Data/notMNIST_test_100.npz')\n",
    "print(\"Train keys: \", train.keys())\n",
    "print(\"Test keys:  \", test.keys())"
   ]
  },
  {
   "cell_type": "code",
   "execution_count": 4,
   "metadata": {
    "collapsed": false
   },
   "outputs": [
    {
     "name": "stdout",
     "output_type": "stream",
     "text": [
      "Train images shape:  (100, 28, 28)\n",
      "Train labels shape:  (100,)\n",
      "\n",
      "Test images shape:  (100, 28, 28)\n",
      "Test labels shape:  (100,)\n"
     ]
    }
   ],
   "source": [
    "train_images = train['train_images']\n",
    "test_images = test['test_images']\n",
    "\n",
    "train_labels = train['train_labels']\n",
    "test_labels = test['test_labels']\n",
    "\n",
    "print(\"Train images shape: \", train_images.shape)\n",
    "print(\"Train labels shape: \", train_labels.shape)\n",
    "\n",
    "print(\"\\nTest images shape: \", test_images.shape)\n",
    "print(\"Test labels shape: \", test_labels.shape)"
   ]
  },
  {
   "cell_type": "code",
   "execution_count": 7,
   "metadata": {
    "collapsed": false
   },
   "outputs": [
    {
     "name": "stdout",
     "output_type": "stream",
     "text": [
      "train_labels:\n",
      " [0 9 2 7 3 8 6 6 3 9 0 1 8 3 6 9 6 8 9 3 1 5 9 3 4 4 3 3 6 8 2 6 3 3 3 5 6\n",
      " 3 9 8 6 9 0 0 6 9 7 8 6 7 2 4 9 5 9 0 1 9 7 4 6 4 2 9 7 9 9 3 0 8 3 6 7 4\n",
      " 2 1 3 6 3 3 3 4 3 8 8 0 5 8 1 6 8 4 2 2 7 0 3 8 4 3]\n",
      "test_labesl:\n",
      " [2 5 6 9 3 9 1 4 4 7 6 2 9 5 9 6 1 6 0 4 2 3 2 5 3 0 8 3 6 7 5 1 2 5 2 0 9\n",
      " 3 2 5 1 8 6 5 0 0 5 0 9 9 6 3 1 5 6 1 2 6 1 5 3 5 4 7 8 0 8 0 5 9 8 9 2 3\n",
      " 3 9 2 9 2 3 4 7 9 5 7 0 9 8 5 2 4 8 1 5 8 4 3 4 4 7]\n"
     ]
    }
   ],
   "source": [
    "print(\"train_labels:\\n\", train_labels)\n",
    "print(\"test_labesl:\\n\", test_labels)"
   ]
  },
  {
   "cell_type": "code",
   "execution_count": 8,
   "metadata": {
    "collapsed": false
   },
   "outputs": [
    {
     "name": "stdout",
     "output_type": "stream",
     "text": [
      "x_train shape:  (100, 784)\n"
     ]
    },
    {
     "data": {
      "text/plain": [
       "array([-0.5       , -0.5       , -0.5       , -0.49215686, -0.5       ], dtype=float32)"
      ]
     },
     "execution_count": 8,
     "metadata": {},
     "output_type": "execute_result"
    }
   ],
   "source": [
    "# prepare input data\n",
    "x_test = test_images.reshape(100, 28*28).astype(np.float32)\n",
    "\n",
    "x_train = train_images.reshape(100, 28*28)\n",
    "print(\"x_train shape: \", x_train.shape)\n",
    "x_train[0][235:240]"
   ]
  },
  {
   "cell_type": "code",
   "execution_count": 9,
   "metadata": {
    "collapsed": false
   },
   "outputs": [
    {
     "name": "stdout",
     "output_type": "stream",
     "text": [
      "y_train shape:  (100, 10)\n"
     ]
    },
    {
     "data": {
      "text/plain": [
       "array([[ 1.,  0.,  0.,  0.,  0.,  0.,  0.,  0.,  0.,  0.],\n",
       "       [ 0.,  0.,  0.,  0.,  0.,  0.,  0.,  0.,  0.,  1.],\n",
       "       [ 0.,  0.,  1.,  0.,  0.,  0.,  0.,  0.,  0.,  0.]], dtype=float32)"
      ]
     },
     "execution_count": 9,
     "metadata": {},
     "output_type": "execute_result"
    }
   ],
   "source": [
    "# prepare output data\n",
    "y_test = pd.get_dummies(test_labels).values.astype(np.float32)\n",
    "\n",
    "y_train = pd.get_dummies(train_labels).values.astype(np.float32)\n",
    "print(\"y_train shape: \", y_train.shape)\n",
    "y_train[0:3]"
   ]
  },
  {
   "cell_type": "code",
   "execution_count": 91,
   "metadata": {
    "collapsed": true
   },
   "outputs": [],
   "source": [
    "# Tensorflow computation graph\n",
    "\n",
    "# y = softmax(x * w + b)\n",
    "x = tf.constant(x_train, dtype='float32', shape=[100, 784])\n",
    "y = tf.constant(y_train, dtype='float32', shape=[100, 10])\n",
    "\n",
    "w = tf.Variable(tf.truncated_normal([784, 10], stddev=0.001))\n",
    "b = tf.Variable(tf.truncated_normal([1, 10], stddev=0.001))\n",
    "\n",
    "# output of function\n",
    "y_pred = tf.nn.softmax(tf.matmul(x, w) + b)\n",
    "\n",
    "# test predictions\n",
    "x_test_tf = tf.constant(x_test, dtype='float32', shape=[100, 784])\n",
    "y_pred_test = tf.nn.softmax(tf.matmul(x_test_tf, w) + b)\n",
    "\n",
    "# error loss function\n",
    "MSE = tf.reduce_mean(tf.square(y_pred - y))\n",
    "\n",
    "# define optimizer\n",
    "# optimizer = tf.train.AdamOptimizer(learning_rate=0.01,\n",
    "#                                    epsilon=1.0,\n",
    "#                                   beta1=0.8,\n",
    "#                                   beta2=0.9).minimize(MSE)\n",
    "optimizer = tf.train.AdamOptimizer(learning_rate=0.01,\n",
    "                                   epsilon=0.1,\n",
    "                                  beta1=0.8,\n",
    "                                  beta2=0.9).minimize(MSE)\n",
    "\n",
    "init = tf.initialize_all_variables()"
   ]
  },
  {
   "cell_type": "code",
   "execution_count": 92,
   "metadata": {
    "collapsed": true
   },
   "outputs": [],
   "source": [
    "sess = tf.Session()\n",
    "sess.run(init)"
   ]
  },
  {
   "cell_type": "code",
   "execution_count": 93,
   "metadata": {
    "collapsed": false
   },
   "outputs": [
    {
     "name": "stdout",
     "output_type": "stream",
     "text": [
      "step = 0     MSE = 0.090026  \n",
      "step = 1000  MSE = 0.009524  \n",
      "step = 2000  MSE = 0.004368  \n",
      "step = 3000  MSE = 0.003347  \n",
      "step = 4000  MSE = 0.002942  \n",
      "step = 5000  MSE = 0.002147  \n",
      "step = 6000  MSE = 0.001671  \n",
      "step = 7000  MSE = 0.001557  \n",
      "step = 8000  MSE = 0.001489  \n",
      "step = 9000  MSE = 0.001442  \n",
      "step = 10000 MSE = 0.001407  \n",
      "step = 11000 MSE = 0.001380  \n",
      "step = 12000 MSE = 0.001358  \n",
      "step = 13000 MSE = 0.001340  \n",
      "step = 14000 MSE = 0.001326  \n",
      "step = 15000 MSE = 0.001313  \n",
      "step = 16000 MSE = 0.001302  \n",
      "step = 17000 MSE = 0.001293  \n",
      "step = 18000 MSE = 0.001285  \n",
      "step = 19000 MSE = 0.001278  \n",
      "step = 20000 MSE = 0.001272  \n",
      "step = 21000 MSE = 0.001266  \n",
      "step = 22000 MSE = 0.001261  \n",
      "step = 23000 MSE = 0.001256  \n",
      "step = 24000 MSE = 0.001252  \n",
      "step = 25000 MSE = 0.001248  \n",
      "step = 26000 MSE = 0.001245  \n",
      "step = 27000 MSE = 0.001242  \n",
      "step = 28000 MSE = 0.001239  \n",
      "step = 29000 MSE = 0.001236  \n",
      "step = 30000 MSE = 0.001233  \n",
      "done!\n"
     ]
    }
   ],
   "source": [
    "MAXSTEPS = 30000\n",
    "for step in range(MAXSTEPS + 1):\n",
    "    (_, mse, w0, b0) = sess.run([optimizer, MSE, w, b])\n",
    "    if (step % 1000) == 0:\n",
    "        print('step = %-5d MSE = %-10f' % (step, mse))\n",
    "print('done!')"
   ]
  },
  {
   "cell_type": "code",
   "execution_count": 94,
   "metadata": {
    "collapsed": false
   },
   "outputs": [
    {
     "data": {
      "text/plain": [
       "array([[  9.69292819e-01,   1.01417466e-03,   1.62245502e-04,\n",
       "          1.41731033e-03,   4.73107677e-04,   4.55135538e-04,\n",
       "          4.95199719e-03,   1.53658586e-02,   7.29440828e-04,\n",
       "          6.13799598e-03]], dtype=float32)"
      ]
     },
     "execution_count": 94,
     "metadata": {},
     "output_type": "execute_result"
    }
   ],
   "source": [
    "# make predictions\n",
    "predictions = sess.run(y_pred)\n",
    "predictions[0:1]"
   ]
  },
  {
   "cell_type": "code",
   "execution_count": 95,
   "metadata": {
    "collapsed": false
   },
   "outputs": [
    {
     "name": "stdout",
     "output_type": "stream",
     "text": [
      "MSE =  0.00123347\n",
      "RMSE =  0.0351208\n",
      "output's standard deviation =  0.3\n",
      "difference between RMSE of model and std of LogRatios:  0.264879\n"
     ]
    }
   ],
   "source": [
    "# check mean square error\n",
    "mse = ((y_train - predictions) ** 2).mean()\n",
    "rmse = np.sqrt(mse)\n",
    "print('MSE = ', mse)\n",
    "print('RMSE = ', rmse)\n",
    "print('output\\'s standard deviation = ', y_train.std())\n",
    "print('difference between RMSE of model and std of LogRatios: ', (y_train.std() - rmse))"
   ]
  },
  {
   "cell_type": "code",
   "execution_count": 96,
   "metadata": {
    "collapsed": true
   },
   "outputs": [],
   "source": [
    "from sklearn.metrics import accuracy_score\n",
    "from sklearn.metrics import mean_squared_error"
   ]
  },
  {
   "cell_type": "code",
   "execution_count": 97,
   "metadata": {
    "collapsed": false
   },
   "outputs": [
    {
     "name": "stdout",
     "output_type": "stream",
     "text": [
      "TensorFlow's training accuracy:  0.99\n"
     ]
    }
   ],
   "source": [
    "accuracy = accuracy_score(np.argmax(y_train, axis=1), np.argmax(predictions, axis=1))\n",
    "\n",
    "print(\"TensorFlow's training accuracy: \", accuracy)"
   ]
  },
  {
   "cell_type": "code",
   "execution_count": 98,
   "metadata": {
    "collapsed": false
   },
   "outputs": [
    {
     "name": "stdout",
     "output_type": "stream",
     "text": [
      "TensorFlow's MSE:  0.0404235\n"
     ]
    }
   ],
   "source": [
    "predictions_test = sess.run(y_pred_test)\n",
    "\n",
    "# check mean square error\n",
    "mse_test = mean_squared_error(y_test, predictions_test)\n",
    "\n",
    "print(\"TensorFlow's MSE: \", mse_test)"
   ]
  },
  {
   "cell_type": "code",
   "execution_count": 99,
   "metadata": {
    "collapsed": false
   },
   "outputs": [
    {
     "name": "stdout",
     "output_type": "stream",
     "text": [
      "TensorFlow's accuracy:  0.71\n"
     ]
    }
   ],
   "source": [
    "accuracy_test = accuracy_score(np.argmax(y_test, axis=1), np.argmax(predictions_test, axis=1))\n",
    "\n",
    "print(\"TensorFlow's accuracy: \", accuracy_test)"
   ]
  },
  {
   "cell_type": "code",
   "execution_count": null,
   "metadata": {
    "collapsed": true
   },
   "outputs": [],
   "source": []
  }
 ],
 "metadata": {
  "anaconda-cloud": {},
  "kernelspec": {
   "display_name": "Python [Root]",
   "language": "python",
   "name": "Python [Root]"
  },
  "language_info": {
   "codemirror_mode": {
    "name": "ipython",
    "version": 3
   },
   "file_extension": ".py",
   "mimetype": "text/x-python",
   "name": "python",
   "nbconvert_exporter": "python",
   "pygments_lexer": "ipython3",
   "version": "3.5.2"
  }
 },
 "nbformat": 4,
 "nbformat_minor": 0
}
