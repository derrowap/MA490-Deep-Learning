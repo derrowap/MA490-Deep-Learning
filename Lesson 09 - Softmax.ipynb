{
 "cells": [
  {
   "cell_type": "markdown",
   "metadata": {},
   "source": [
    "# Lesson 09 - Softmax\n",
    "Austin Derrow-Pinion"
   ]
  },
  {
   "cell_type": "code",
   "execution_count": 1,
   "metadata": {
    "collapsed": true
   },
   "outputs": [],
   "source": [
    "import numpy as np\n",
    "import pandas as pd\n",
    "import matplotlib.pyplot as plt\n",
    "%matplotlib inline"
   ]
  },
  {
   "cell_type": "markdown",
   "metadata": {},
   "source": [
    "#### Part (a): Implement softmax vectorizing it"
   ]
  },
  {
   "cell_type": "code",
   "execution_count": 2,
   "metadata": {
    "collapsed": false
   },
   "outputs": [],
   "source": [
    "def softmax(x):\n",
    "    epsilon = 1e-10\n",
    "    return np.exp(x / (x.max() + epsilon)) / np.exp(x / (x.max() + epsilon)).sum()"
   ]
  },
  {
   "cell_type": "markdown",
   "metadata": {},
   "source": [
    "#### Part (b): check output values of softmax are always between zero and one and they sum to one"
   ]
  },
  {
   "cell_type": "code",
   "execution_count": 3,
   "metadata": {
    "collapsed": false
   },
   "outputs": [
    {
     "name": "stdout",
     "output_type": "stream",
     "text": [
      "[ 0.06120702  0.06764422  0.07475843  0.08262084  0.09131015  0.10091332\n",
      "  0.11152647  0.12325581  0.13621874  0.15054499]\n",
      "1.0\n"
     ]
    }
   ],
   "source": [
    "test1 = np.array([1, 2, 3, 4, 5, 6, 7, 8, 9, 10])\n",
    "result1 = softmax(test1)\n",
    "print(result1)\n",
    "print(result1.sum())"
   ]
  },
  {
   "cell_type": "code",
   "execution_count": 4,
   "metadata": {
    "collapsed": false
   },
   "outputs": [
    {
     "name": "stdout",
     "output_type": "stream",
     "text": [
      "min in output:  0.000317706839572\n",
      "max in output:  0.00233686573065\n",
      "sum of output:  1.0\n",
      "\n",
      "First 5:\n",
      " [ 0.00052016  0.00034587  0.00190137  0.00190787  0.0006254 ]\n",
      "\n",
      "Last 5:\n",
      " [ 0.00056836  0.00063232  0.00105686  0.00056798  0.00201643]\n"
     ]
    }
   ],
   "source": [
    "SIZE = 1000\n",
    "RANGE = 10000000\n",
    "\n",
    "input = np.random.randint(-RANGE, RANGE, SIZE)\n",
    "\n",
    "output = softmax(input)\n",
    "print(\"min in output: \", output.min())\n",
    "print(\"max in output: \", output.max())\n",
    "print(\"sum of output: \", np.sum(output))\n",
    "print(\"\\nFirst 5:\\n\", output[:5])\n",
    "print(\"\\nLast 5:\\n\", output[-5:])"
   ]
  },
  {
   "cell_type": "markdown",
   "metadata": {
    "collapsed": true
   },
   "source": [
    "#### Part (c):  Describe what happens to the output values of the softmax function when the input values are large positive and unequal."
   ]
  },
  {
   "cell_type": "code",
   "execution_count": 5,
   "metadata": {
    "collapsed": false
   },
   "outputs": [
    {
     "name": "stdout",
     "output_type": "stream",
     "text": [
      "min in output:  0.000999999500501\n",
      "max in output:  0.0010000004995\n",
      "sum of output:  1.0\n",
      "\n",
      "First 5:\n",
      " [ 0.001  0.001  0.001  0.001  0.001]\n",
      "\n",
      "Last 5:\n",
      " [ 0.001  0.001  0.001  0.001  0.001]\n"
     ]
    },
    {
     "data": {
      "text/plain": [
       "[<matplotlib.lines.Line2D at 0x7f128a23c5f8>]"
      ]
     },
     "execution_count": 5,
     "metadata": {},
     "output_type": "execute_result"
    },
    {
     "data": {
      "image/png": "[encoded data removed]",
      "text/plain": [
       "<matplotlib.figure.Figure at 0x7f128a276550>"
      ]
     },
     "metadata": {},
     "output_type": "display_data"
    }
   ],
   "source": [
    "SIZE = 1000\n",
    "RANGE = 1000000000\n",
    "\n",
    "input = np.array(range(SIZE))+RANGE\n",
    "\n",
    "output = softmax(input)\n",
    "print(\"min in output: \", output.min())\n",
    "print(\"max in output: \", output.max())\n",
    "print(\"sum of output: \", np.sum(output))\n",
    "print(\"\\nFirst 5:\\n\", output[:5])\n",
    "print(\"\\nLast 5:\\n\", output[-5:])\n",
    "\n",
    "plt.plot(input, output)"
   ]
  },
  {
   "cell_type": "markdown",
   "metadata": {},
   "source": [
    "The plot makes it appear to be increasing as the value gets larger, but this change is very tiny. If you look at the scale, you can see this. The min of the output is 0.00099 and the max is 0.00100, which are almost equivalent."
   ]
  },
  {
   "cell_type": "markdown",
   "metadata": {},
   "source": [
    "#### Part (d): Describe what happens to the output values of the softmax function when the input values are small positive and unequal."
   ]
  },
  {
   "cell_type": "code",
   "execution_count": 6,
   "metadata": {
    "collapsed": false
   },
   "outputs": [
    {
     "name": "stdout",
     "output_type": "stream",
     "text": [
      "min in output:  0.00584896314313\n",
      "max in output:  0.0157409312383\n",
      "sum of output:  1.0\n",
      "\n",
      "First 5:\n",
      " [ 0.00584896  0.00590775  0.00596712  0.00602709  0.00608766]\n",
      "\n",
      "Last 5:\n",
      " [ 0.01512372  0.01527572  0.01542924  0.01558431  0.01574093]\n"
     ]
    },
    {
     "data": {
      "text/plain": [
       "[<matplotlib.lines.Line2D at 0x7f1292ead7f0>]"
      ]
     },
     "execution_count": 6,
     "metadata": {},
     "output_type": "execute_result"
    },
    {
     "data": {
      "image/png": "[encoded data removed]",
      "text/plain": [
       "<matplotlib.figure.Figure at 0x7f128acf2710>"
      ]
     },
     "metadata": {},
     "output_type": "display_data"
    }
   ],
   "source": [
    "SIZE = 100\n",
    "\n",
    "input = np.array(range(SIZE))+1\n",
    "\n",
    "output = softmax(input)\n",
    "print(\"min in output: \", output.min())\n",
    "print(\"max in output: \", output.max())\n",
    "print(\"sum of output: \", np.sum(output))\n",
    "print(\"\\nFirst 5:\\n\", output[:5])\n",
    "print(\"\\nLast 5:\\n\", output[-5:])\n",
    "\n",
    "plt.plot(input, output)"
   ]
  },
  {
   "cell_type": "markdown",
   "metadata": {},
   "source": [
    "The larger values will have a much larger value in the outcome of the softmax in comparison to the values that are smaller. The outcomes are always increasing as shown in the plot, but the change in output is much greater for each number than when there are a lot of numbers (like in part c)."
   ]
  },
  {
   "cell_type": "markdown",
   "metadata": {},
   "source": [
    "#### Part (e): Describe what happens to the output values of the softmax function when the input values are large positive and large negative values."
   ]
  },
  {
   "cell_type": "code",
   "execution_count": 8,
   "metadata": {
    "collapsed": false
   },
   "outputs": [
    {
     "name": "stdout",
     "output_type": "stream",
     "text": [
      "min in output:  1.56517636683e-08\n",
      "max in output:  1.15651771358e-07\n",
      "sum of output:  1.0\n",
      "\n",
      "First 5:\n",
      " [  4.25459090e-08   4.25459133e-08   4.25459175e-08   4.25459218e-08\n",
      "   4.25459260e-08]\n",
      "\n",
      "Last 5:\n",
      " [  4.25458835e-08   4.25458877e-08   4.25458920e-08   4.25458963e-08\n",
      "   4.25459005e-08]\n"
     ]
    },
    {
     "data": {
      "text/plain": [
       "[<matplotlib.lines.Line2D at 0x7f1281223da0>]"
      ]
     },
     "execution_count": 8,
     "metadata": {},
     "output_type": "execute_result"
    },
    {
     "data": {
      "image/png": "[encoded data removed]",
      "text/plain": [
       "<matplotlib.figure.Figure at 0x7f1253232b00>"
      ]
     },
     "metadata": {},
     "output_type": "display_data"
    }
   ],
   "source": [
    "SIZE = 10000000\n",
    "\n",
    "input = np.arange(SIZE)\n",
    "input = np.append(input, np.arange(-SIZE, -1))\n",
    "\n",
    "output = softmax(input)\n",
    "print(\"min in output: \", output.min())\n",
    "print(\"max in output: \", output.max())\n",
    "print(\"sum of output: \", np.sum(output))\n",
    "print(\"\\nFirst 5:\\n\", output[:5])\n",
    "print(\"\\nLast 5:\\n\", output[-5:])\n",
    "\n",
    "plt.plot(output)"
   ]
  },
  {
   "cell_type": "markdown",
   "metadata": {},
   "source": [
    "The outcome of the values do not change very much since there are so many different values. The output always increases for the negative numbers and the positive numbers, but as soon as the data crosses 0, it is almost like the output restarts at a low value again. As shown in the plot, it jumps from a high value to a very low value when it crosses the point at which the input equals 0."
   ]
  },
  {
   "cell_type": "markdown",
   "metadata": {},
   "source": [
    "#### Part (f): Describe what happens to the output values of the softmax function when the input values are small positive and small negative values."
   ]
  },
  {
   "cell_type": "code",
   "execution_count": 9,
   "metadata": {
    "collapsed": false
   },
   "outputs": [
    {
     "name": "stdout",
     "output_type": "stream",
     "text": [
      "min in output:  0.0148600978349\n",
      "max in output:  0.122705936666\n",
      "sum of output:  1.0\n",
      "\n",
      "First 5:\n",
      " [ 0.04514099  0.05044592  0.05637428  0.06299933  0.07040295]\n",
      "\n",
      "Last 5:\n",
      " [ 0.02317616  0.0258998   0.02894352  0.03234493  0.03614608]\n"
     ]
    },
    {
     "data": {
      "text/plain": [
       "[<matplotlib.lines.Line2D at 0x7f128118a0f0>]"
      ]
     },
     "execution_count": 9,
     "metadata": {},
     "output_type": "execute_result"
    },
    {
     "data": {
      "image/png": "[encoded data removed]",
      "text/plain": [
       "<matplotlib.figure.Figure at 0x7f12811f1f28>"
      ]
     },
     "metadata": {},
     "output_type": "display_data"
    }
   ],
   "source": [
    "SIZE = 10\n",
    "\n",
    "input = np.arange(SIZE)\n",
    "input = np.append(input, np.arange(-SIZE, -1))\n",
    "\n",
    "output = softmax(input)\n",
    "print(\"min in output: \", output.min())\n",
    "print(\"max in output: \", output.max())\n",
    "print(\"sum of output: \", np.sum(output))\n",
    "print(\"\\nFirst 5:\\n\", output[:5])\n",
    "print(\"\\nLast 5:\\n\", output[-5:])\n",
    "\n",
    "plt.plot(output)"
   ]
  },
  {
   "cell_type": "markdown",
   "metadata": {
    "collapsed": true
   },
   "source": [
    "This is the same as part (e), except now the values increase by a much larger scale. Similarly from part (e), when the input crosses a value of 0, the softmax output jumps back down to a really small number and then gradually starts to increase again."
   ]
  }
 ],
 "metadata": {
  "anaconda-cloud": {},
  "kernelspec": {
   "display_name": "Python [Root]",
   "language": "python",
   "name": "Python [Root]"
  },
  "language_info": {
   "codemirror_mode": {
    "name": "ipython",
    "version": 3
   },
   "file_extension": ".py",
   "mimetype": "text/x-python",
   "name": "python",
   "nbconvert_exporter": "python",
   "pygments_lexer": "ipython3",
   "version": "3.5.2"
  }
 },
 "nbformat": 4,
 "nbformat_minor": 0
}
