{
 "cells": [
  {
   "cell_type": "markdown",
   "metadata": {},
   "source": [
    "# Homework 04\n",
    "Austin Derrow-Pinion"
   ]
  },
  {
   "cell_type": "code",
   "execution_count": 1,
   "metadata": {
    "collapsed": true
   },
   "outputs": [],
   "source": [
    "import numpy as np\n",
    "import pandas as pd\n",
    "import tensorflow as tf\n",
    "import matplotlib.pyplot as plt\n",
    "%matplotlib inline"
   ]
  },
  {
   "cell_type": "code",
   "execution_count": 30,
   "metadata": {
    "collapsed": false
   },
   "outputs": [
    {
     "name": "stdout",
     "output_type": "stream",
     "text": [
      "Train keys:  ['train_labels', 'train_images']\n",
      "Test keys:   ['test_images', 'test_labels']\n"
     ]
    }
   ],
   "source": [
    "train = np.load('./Data/MNIST_train_100.npz')\n",
    "test = np.load('./Data/MNIST_test_100.npz')\n",
    "print(\"Train keys: \", train.keys())\n",
    "print(\"Test keys:  \", test.keys())"
   ]
  },
  {
   "cell_type": "code",
   "execution_count": 70,
   "metadata": {
    "collapsed": false
   },
   "outputs": [
    {
     "name": "stdout",
     "output_type": "stream",
     "text": [
      "Train images shape:  (100, 28, 28)\n",
      "Train labels shape:  (100,)\n",
      "\n",
      "Test images shape:  (100, 28, 28)\n",
      "Test labels shape:  (100,)\n"
     ]
    }
   ],
   "source": [
    "train_images = train['train_images']\n",
    "test_images = test['test_images']\n",
    "\n",
    "train_labels = train['train_labels']\n",
    "test_labels = test['test_labels']\n",
    "\n",
    "print(\"Train images shape: \", train_images.shape)\n",
    "print(\"Train labels shape: \", train_labels.shape)\n",
    "\n",
    "print(\"\\nTest images shape: \", test_images.shape)\n",
    "print(\"Test labels shape: \", test_labels.shape)"
   ]
  },
  {
   "cell_type": "code",
   "execution_count": 36,
   "metadata": {
    "collapsed": false
   },
   "outputs": [
    {
     "name": "stdout",
     "output_type": "stream",
     "text": [
      "train_labels:\n",
      " [4 9 9 9 9 9 4 9 9 9 4 4 4 4 4 9 9 4 9 4 9 4 4 4 4 9 9 9 9 9 9 4 4 4 9 9 4\n",
      " 9 9 4 9 4 9 4 9 4 4 9 9 9 9 9 4 9 4 4 4 9 9 9 9 9 9 9 9 9 9 9 4 9 9 9 9 4\n",
      " 9 9 4 9 4 4 9 9 4 9 4 4 4 4 4 4 9 9 4 4 4 9 9 9 4 9]\n",
      "test_labesl:\n",
      " [9 9 9 9 4 4 4 4 9 9 4 4 4 4 9 4 9 4 9 9 9 9 4 9 4 9 9 4 4 4 9 4 4 9 4 4 9\n",
      " 4 4 9 9 9 4 4 9 4 4 9 9 9 4 4 4 4 9 4 9 9 4 9 4 9 4 9 4 9 9 4 9 4 4 9 9 9\n",
      " 4 4 4 9 4 4 9 9 4 4 4 9 4 4 9 9 9 9 4 4 9 9 4 4 9 4]\n"
     ]
    }
   ],
   "source": [
    "print(\"train_labels:\\n\", train_labels)\n",
    "print(\"test_labesl:\\n\", test_labels)"
   ]
  },
  {
   "cell_type": "markdown",
   "metadata": {},
   "source": [
    "#### Part (a): Using TensorFlow train a logistic regression classifier for predicting the number corresponding to the image of a handwritten character."
   ]
  },
  {
   "cell_type": "code",
   "execution_count": 102,
   "metadata": {
    "collapsed": false
   },
   "outputs": [
    {
     "name": "stdout",
     "output_type": "stream",
     "text": [
      "x_train shape:  (100, 784)\n"
     ]
    },
    {
     "data": {
      "text/plain": [
       "array([ 0.91372555,  0.98823535,  0.99215692,  0.43529415,  0.        ], dtype=float32)"
      ]
     },
     "execution_count": 102,
     "metadata": {},
     "output_type": "execute_result"
    }
   ],
   "source": [
    "# prepare input data\n",
    "x_test = test_images.reshape(100, 28*28).astype(np.float32)\n",
    "\n",
    "x_train = train_images.reshape(100, 28*28)\n",
    "print(\"x_train shape: \", x_train.shape)\n",
    "x_train[0][235:240]"
   ]
  },
  {
   "cell_type": "code",
   "execution_count": 83,
   "metadata": {
    "collapsed": false
   },
   "outputs": [
    {
     "name": "stdout",
     "output_type": "stream",
     "text": [
      "y_train shape:  (100, 2)\n"
     ]
    },
    {
     "data": {
      "text/plain": [
       "array([[ 1.,  0.],\n",
       "       [ 0.,  1.],\n",
       "       [ 0.,  1.]], dtype=float32)"
      ]
     },
     "execution_count": 83,
     "metadata": {},
     "output_type": "execute_result"
    }
   ],
   "source": [
    "# prepare output data\n",
    "y_test = pd.get_dummies(test_labels).values.astype(np.float32)\n",
    "\n",
    "y_train = pd.get_dummies(train_labels).values.astype(np.float32)\n",
    "print(\"y_train shape: \", y_train.shape)\n",
    "y_train[0:3]"
   ]
  },
  {
   "cell_type": "code",
   "execution_count": 105,
   "metadata": {
    "collapsed": false
   },
   "outputs": [],
   "source": [
    "# Tensorflow computation graph\n",
    "\n",
    "# y = softmax(x * w + b)\n",
    "x = tf.constant(x_train, dtype='float32', shape=[100, 784])\n",
    "y = tf.constant(y_train, dtype='float32', shape=[100, 2])\n",
    "\n",
    "w = tf.Variable(tf.truncated_normal([784, 2], stddev=0.001))\n",
    "b = tf.Variable(tf.truncated_normal([1, 2], stddev=0.001))\n",
    "\n",
    "# output of function\n",
    "y_pred = tf.nn.softmax(tf.matmul(x, w) + b)\n",
    "\n",
    "# test predictions\n",
    "x_test_tf = tf.constant(x_test, dtype='float32', shape=[100, 784])\n",
    "y_pred_test = tf.nn.softmax(tf.matmul(x_test_tf, w) + b)\n",
    "\n",
    "# error loss function\n",
    "MSE = tf.reduce_mean(tf.square(y_pred - y))\n",
    "\n",
    "# define optimizer\n",
    "optimizer = tf.train.AdamOptimizer(learning_rate=0.01, epsilon=1e-10).minimize(MSE)\n",
    "\n",
    "init = tf.initialize_all_variables()"
   ]
  },
  {
   "cell_type": "code",
   "execution_count": 106,
   "metadata": {
    "collapsed": true
   },
   "outputs": [],
   "source": [
    "sess = tf.Session()\n",
    "sess.run(init)"
   ]
  },
  {
   "cell_type": "code",
   "execution_count": 107,
   "metadata": {
    "collapsed": false
   },
   "outputs": [
    {
     "name": "stdout",
     "output_type": "stream",
     "text": [
      "step = 0     MSE = 0.250284  \n",
      "step = 1000  MSE = 0.000052  \n",
      "step = 2000  MSE = 0.000015  \n",
      "step = 3000  MSE = 0.000007  \n",
      "step = 4000  MSE = 0.000004  \n",
      "step = 5000  MSE = 0.000002  \n",
      "step = 6000  MSE = 0.000001  \n",
      "step = 7000  MSE = 0.000001  \n",
      "step = 8000  MSE = 0.000000  \n",
      "step = 9000  MSE = 0.000000  \n",
      "step = 10000 MSE = 0.000000  \n",
      "step = 11000 MSE = 0.000000  \n",
      "step = 12000 MSE = 0.000000  \n",
      "step = 13000 MSE = 0.000000  \n",
      "step = 14000 MSE = 0.000000  \n",
      "step = 15000 MSE = 0.000000  \n",
      "step = 16000 MSE = 0.000000  \n",
      "step = 17000 MSE = 0.000000  \n",
      "step = 18000 MSE = 0.000000  \n",
      "step = 19000 MSE = 0.000000  \n",
      "step = 20000 MSE = 0.000000  \n",
      "done!\n"
     ]
    }
   ],
   "source": [
    "MAXSTEPS = 20000\n",
    "for step in range(MAXSTEPS + 1):\n",
    "    (_, mse, w0, b0) = sess.run([optimizer, MSE, w, b])\n",
    "    if (step % 1000) == 0:\n",
    "        print('step = %-5d MSE = %-10f' % (step, mse))\n",
    "print('done!')"
   ]
  },
  {
   "cell_type": "code",
   "execution_count": 108,
   "metadata": {
    "collapsed": false
   },
   "outputs": [
    {
     "data": {
      "text/plain": [
       "array([[  9.99963880e-01,   3.60827325e-05],\n",
       "       [  3.51603594e-05,   9.99964833e-01],\n",
       "       [  1.01299620e-05,   9.99989867e-01]], dtype=float32)"
      ]
     },
     "execution_count": 108,
     "metadata": {},
     "output_type": "execute_result"
    }
   ],
   "source": [
    "# make predictions\n",
    "predictions = sess.run(y_pred)\n",
    "predictions[0:3]"
   ]
  },
  {
   "cell_type": "code",
   "execution_count": 109,
   "metadata": {
    "collapsed": false
   },
   "outputs": [
    {
     "name": "stdout",
     "output_type": "stream",
     "text": [
      "MSE =  9.35573e-10\n",
      "RMSE =  3.05871e-05\n",
      "output's standard deviation =  0.5\n",
      "difference between RMSE of model and std of LogRatios:  0.499969\n"
     ]
    }
   ],
   "source": [
    "# check mean square error\n",
    "mse = ((y_train - predictions) ** 2).mean()\n",
    "rmse = np.sqrt(mse)\n",
    "print('MSE = ', mse)\n",
    "print('RMSE = ', rmse)\n",
    "print('output\\'s standard deviation = ', y_train.std())\n",
    "print('difference between RMSE of model and std of LogRatios: ', (y_train.std() - rmse))"
   ]
  },
  {
   "cell_type": "markdown",
   "metadata": {},
   "source": [
    "#### Part (b): Repear part (a) using Sklearn."
   ]
  },
  {
   "cell_type": "code",
   "execution_count": 110,
   "metadata": {
    "collapsed": true
   },
   "outputs": [],
   "source": [
    "from sklearn.linear_model import LogisticRegression\n",
    "from sklearn.metrics import mean_squared_error\n",
    "from sklearn.metrics import accuracy_score\n",
    "LgR = LogisticRegression(solver='lbfgs', multi_class='multinomial')"
   ]
  },
  {
   "cell_type": "code",
   "execution_count": 111,
   "metadata": {
    "collapsed": false
   },
   "outputs": [
    {
     "data": {
      "text/plain": [
       "LogisticRegression(C=1.0, class_weight=None, dual=False, fit_intercept=True,\n",
       "          intercept_scaling=1, max_iter=100, multi_class='multinomial',\n",
       "          n_jobs=1, penalty='l2', random_state=None, solver='lbfgs',\n",
       "          tol=0.0001, verbose=0, warm_start=False)"
      ]
     },
     "execution_count": 111,
     "metadata": {},
     "output_type": "execute_result"
    }
   ],
   "source": [
    "LgR.fit(x_train, train_labels)"
   ]
  },
  {
   "cell_type": "code",
   "execution_count": 112,
   "metadata": {
    "collapsed": false
   },
   "outputs": [
    {
     "data": {
      "text/plain": [
       "array([[ 0.82771958,  0.17228042],\n",
       "       [ 0.13397693,  0.86602307],\n",
       "       [ 0.10244145,  0.89755855]])"
      ]
     },
     "execution_count": 112,
     "metadata": {},
     "output_type": "execute_result"
    }
   ],
   "source": [
    "# predict species probabilities\n",
    "predictions_sk = LgR.predict_proba(x_train)\n",
    "predictions_sk[0:3]"
   ]
  },
  {
   "cell_type": "code",
   "execution_count": 113,
   "metadata": {
    "collapsed": false
   },
   "outputs": [
    {
     "name": "stdout",
     "output_type": "stream",
     "text": [
      "Sklearn mse:  0.0192015802169\n",
      "Sklearn rmse:  0.138569766605\n"
     ]
    }
   ],
   "source": [
    "mse_sk = mean_squared_error(y_train, predictions_sk)\n",
    "print(\"Sklearn mse: \", mse_sk)\n",
    "print(\"Sklearn rmse: \", np.sqrt(mse_sk))"
   ]
  },
  {
   "cell_type": "markdown",
   "metadata": {},
   "source": [
    "#### Part (c): Compare Tensorflow's MSE to that of Sklearn."
   ]
  },
  {
   "cell_type": "code",
   "execution_count": 114,
   "metadata": {
    "collapsed": false
   },
   "outputs": [
    {
     "name": "stdout",
     "output_type": "stream",
     "text": [
      "TensorFlow's MSE:  9.35573e-10\n",
      "Sklearn's MSE:  0.0192015802169\n"
     ]
    }
   ],
   "source": [
    "print(\"TensorFlow's MSE: \", mse)\n",
    "print(\"Sklearn's MSE: \", mse_sk)"
   ]
  },
  {
   "cell_type": "markdown",
   "metadata": {},
   "source": [
    "#### Part (d): Compare Tensorflow's accuracy rate to that of Sklearn."
   ]
  },
  {
   "cell_type": "markdown",
   "metadata": {},
   "source": [
    "accuracy = (# of correct predictions) / (total # of predictions)\n",
    "\n",
    "error rate = 1 - accuracy"
   ]
  },
  {
   "cell_type": "code",
   "execution_count": 115,
   "metadata": {
    "collapsed": false
   },
   "outputs": [
    {
     "name": "stdout",
     "output_type": "stream",
     "text": [
      "TensorFlow's accuracy:  1.0\n",
      "Sklearn's accuracy:  1.0\n"
     ]
    }
   ],
   "source": [
    "accuracy = accuracy_score(np.argmax(y_train, axis=1), np.argmax(predictions, axis=1))\n",
    "accuracy_sk = accuracy_score(np.argmax(y_train, axis=1), np.argmax(predictions_sk, axis=1))\n",
    "\n",
    "print(\"TensorFlow's accuracy: \", accuracy)\n",
    "print(\"Sklearn's accuracy: \", accuracy_sk)"
   ]
  },
  {
   "cell_type": "markdown",
   "metadata": {},
   "source": [
    "#### Part (e): Repeat parts (c) and (d) using the test data provided. (Do not retrain your classifier on the test data!)"
   ]
  },
  {
   "cell_type": "code",
   "execution_count": 116,
   "metadata": {
    "collapsed": false
   },
   "outputs": [
    {
     "name": "stdout",
     "output_type": "stream",
     "text": [
      "TensorFlow's MSE:  0.100542\n",
      "Sklearn's MSE:  0.0800912534225\n"
     ]
    }
   ],
   "source": [
    "predictions_test = sess.run(y_pred_test)\n",
    "predictions_test_sk = LgR.predict_proba(x_test)\n",
    "\n",
    "# check mean square error\n",
    "mse_test = mean_squared_error(y_test, predictions_test)\n",
    "mse_test_sk = mean_squared_error(y_test, predictions_test_sk)\n",
    "\n",
    "print(\"TensorFlow's MSE: \", mse_test)\n",
    "print(\"Sklearn's MSE: \", mse_test_sk)"
   ]
  },
  {
   "cell_type": "code",
   "execution_count": 117,
   "metadata": {
    "collapsed": false
   },
   "outputs": [
    {
     "name": "stdout",
     "output_type": "stream",
     "text": [
      "TensorFlow's accuracy:  0.87\n",
      "Sklearn's accuracy:  0.89\n"
     ]
    }
   ],
   "source": [
    "accuracy_test = accuracy_score(np.argmax(y_test, axis=1), np.argmax(predictions_test, axis=1))\n",
    "accuracy_test_sk = accuracy_score(np.argmax(y_test, axis=1), np.argmax(predictions_test_sk, axis=1))\n",
    "\n",
    "print(\"TensorFlow's accuracy: \", accuracy_test)\n",
    "print(\"Sklearn's accuracy: \", accuracy_test_sk)"
   ]
  }
 ],
 "metadata": {
  "anaconda-cloud": {},
  "kernelspec": {
   "display_name": "Python [Root]",
   "language": "python",
   "name": "Python [Root]"
  },
  "language_info": {
   "codemirror_mode": {
    "name": "ipython",
    "version": 3
   },
   "file_extension": ".py",
   "mimetype": "text/x-python",
   "name": "python",
   "nbconvert_exporter": "python",
   "pygments_lexer": "ipython3",
   "version": "3.5.2"
  }
 },
 "nbformat": 4,
 "nbformat_minor": 0
}
