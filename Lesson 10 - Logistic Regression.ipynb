{
 "cells": [
  {
   "cell_type": "markdown",
   "metadata": {},
   "source": [
    "# Lesson 10 - Logistic Regression\n",
    "Austin Derrow-Pinion"
   ]
  },
  {
   "cell_type": "code",
   "execution_count": 1,
   "metadata": {
    "collapsed": true
   },
   "outputs": [],
   "source": [
    "import numpy as np\n",
    "import pandas as pd\n",
    "import tensorflow as tf\n",
    "import matplotlib.pyplot as plt\n",
    "%matplotlib inline"
   ]
  },
  {
   "cell_type": "code",
   "execution_count": 22,
   "metadata": {
    "collapsed": false
   },
   "outputs": [
    {
     "data": {
      "text/html": [
       "<div>\n",
       "<table border=\"1\" class=\"dataframe\">\n",
       "  <thead>\n",
       "    <tr style=\"text-align: right;\">\n",
       "      <th></th>\n",
       "      <th>sepal length</th>\n",
       "      <th>sepal width</th>\n",
       "      <th>petal length</th>\n",
       "      <th>petal width</th>\n",
       "      <th>species</th>\n",
       "    </tr>\n",
       "  </thead>\n",
       "  <tbody>\n",
       "    <tr>\n",
       "      <th>0</th>\n",
       "      <td>5.1</td>\n",
       "      <td>3.5</td>\n",
       "      <td>1.4</td>\n",
       "      <td>0.2</td>\n",
       "      <td>setosa</td>\n",
       "    </tr>\n",
       "    <tr>\n",
       "      <th>1</th>\n",
       "      <td>4.9</td>\n",
       "      <td>3.0</td>\n",
       "      <td>1.4</td>\n",
       "      <td>0.2</td>\n",
       "      <td>setosa</td>\n",
       "    </tr>\n",
       "    <tr>\n",
       "      <th>2</th>\n",
       "      <td>4.7</td>\n",
       "      <td>3.2</td>\n",
       "      <td>1.3</td>\n",
       "      <td>0.2</td>\n",
       "      <td>setosa</td>\n",
       "    </tr>\n",
       "    <tr>\n",
       "      <th>3</th>\n",
       "      <td>4.6</td>\n",
       "      <td>3.1</td>\n",
       "      <td>1.5</td>\n",
       "      <td>0.2</td>\n",
       "      <td>setosa</td>\n",
       "    </tr>\n",
       "    <tr>\n",
       "      <th>4</th>\n",
       "      <td>5.0</td>\n",
       "      <td>3.6</td>\n",
       "      <td>1.4</td>\n",
       "      <td>0.2</td>\n",
       "      <td>setosa</td>\n",
       "    </tr>\n",
       "  </tbody>\n",
       "</table>\n",
       "</div>"
      ],
      "text/plain": [
       "   sepal length  sepal width  petal length  petal width species\n",
       "0           5.1          3.5           1.4          0.2  setosa\n",
       "1           4.9          3.0           1.4          0.2  setosa\n",
       "2           4.7          3.2           1.3          0.2  setosa\n",
       "3           4.6          3.1           1.5          0.2  setosa\n",
       "4           5.0          3.6           1.4          0.2  setosa"
      ]
     },
     "execution_count": 22,
     "metadata": {},
     "output_type": "execute_result"
    }
   ],
   "source": [
    "df = pd.read_csv('./Data/Iris-cleaned.csv')\n",
    "df['species'] = df.species.astype('category')\n",
    "df.head()"
   ]
  },
  {
   "cell_type": "markdown",
   "metadata": {},
   "source": [
    "#### Part (a): Using TensorFlow and gradient descent, train a logistic regression classifier for predicting the species of an iris from its leaf features."
   ]
  },
  {
   "cell_type": "code",
   "execution_count": 23,
   "metadata": {
    "collapsed": true
   },
   "outputs": [],
   "source": [
    "df_s = df.copy()\n",
    "df_s['sepal length'] = (df_s['sepal length'] - df_s['sepal length'].mean()) / df_s['sepal length'].std()\n",
    "df_s['sepal width'] = (df_s['sepal width'] - df_s['sepal width'].mean()) / df_s['sepal width'].std()\n",
    "df_s['petal length'] = (df_s['petal length'] - df_s['petal length'].mean()) / df_s['petal length'].std()\n",
    "df_s['petal width'] = (df_s['petal width'] - df_s['petal width'].mean()) / df_s['petal width'].std()"
   ]
  },
  {
   "cell_type": "code",
   "execution_count": 24,
   "metadata": {
    "collapsed": false
   },
   "outputs": [
    {
     "data": {
      "text/html": [
       "<div>\n",
       "<table border=\"1\" class=\"dataframe\">\n",
       "  <thead>\n",
       "    <tr style=\"text-align: right;\">\n",
       "      <th></th>\n",
       "      <th>sepal length</th>\n",
       "      <th>sepal width</th>\n",
       "      <th>petal length</th>\n",
       "      <th>petal width</th>\n",
       "      <th>species_setosa</th>\n",
       "      <th>species_versicolor</th>\n",
       "      <th>species_virginica</th>\n",
       "    </tr>\n",
       "  </thead>\n",
       "  <tbody>\n",
       "    <tr>\n",
       "      <th>0</th>\n",
       "      <td>-0.897674</td>\n",
       "      <td>1.028611</td>\n",
       "      <td>-1.336794</td>\n",
       "      <td>-1.308593</td>\n",
       "      <td>1.0</td>\n",
       "      <td>0.0</td>\n",
       "      <td>0.0</td>\n",
       "    </tr>\n",
       "    <tr>\n",
       "      <th>1</th>\n",
       "      <td>-1.139200</td>\n",
       "      <td>-0.124540</td>\n",
       "      <td>-1.336794</td>\n",
       "      <td>-1.308593</td>\n",
       "      <td>1.0</td>\n",
       "      <td>0.0</td>\n",
       "      <td>0.0</td>\n",
       "    </tr>\n",
       "    <tr>\n",
       "      <th>2</th>\n",
       "      <td>-1.380727</td>\n",
       "      <td>0.336720</td>\n",
       "      <td>-1.393470</td>\n",
       "      <td>-1.308593</td>\n",
       "      <td>1.0</td>\n",
       "      <td>0.0</td>\n",
       "      <td>0.0</td>\n",
       "    </tr>\n",
       "    <tr>\n",
       "      <th>3</th>\n",
       "      <td>-1.501490</td>\n",
       "      <td>0.106090</td>\n",
       "      <td>-1.280118</td>\n",
       "      <td>-1.308593</td>\n",
       "      <td>1.0</td>\n",
       "      <td>0.0</td>\n",
       "      <td>0.0</td>\n",
       "    </tr>\n",
       "    <tr>\n",
       "      <th>4</th>\n",
       "      <td>-1.018437</td>\n",
       "      <td>1.259242</td>\n",
       "      <td>-1.336794</td>\n",
       "      <td>-1.308593</td>\n",
       "      <td>1.0</td>\n",
       "      <td>0.0</td>\n",
       "      <td>0.0</td>\n",
       "    </tr>\n",
       "  </tbody>\n",
       "</table>\n",
       "</div>"
      ],
      "text/plain": [
       "   sepal length  sepal width  petal length  petal width  species_setosa  \\\n",
       "0     -0.897674     1.028611     -1.336794    -1.308593             1.0   \n",
       "1     -1.139200    -0.124540     -1.336794    -1.308593             1.0   \n",
       "2     -1.380727     0.336720     -1.393470    -1.308593             1.0   \n",
       "3     -1.501490     0.106090     -1.280118    -1.308593             1.0   \n",
       "4     -1.018437     1.259242     -1.336794    -1.308593             1.0   \n",
       "\n",
       "   species_versicolor  species_virginica  \n",
       "0                 0.0                0.0  \n",
       "1                 0.0                0.0  \n",
       "2                 0.0                0.0  \n",
       "3                 0.0                0.0  \n",
       "4                 0.0                0.0  "
      ]
     },
     "execution_count": 24,
     "metadata": {},
     "output_type": "execute_result"
    }
   ],
   "source": [
    "# one-hot-encode species\n",
    "df_h = pd.get_dummies(df_s)\n",
    "df_h.head()"
   ]
  },
  {
   "cell_type": "code",
   "execution_count": 25,
   "metadata": {
    "collapsed": false
   },
   "outputs": [
    {
     "data": {
      "text/plain": [
       "sepal length          float64\n",
       "sepal width           float64\n",
       "petal length          float64\n",
       "petal width           float64\n",
       "species_setosa        float64\n",
       "species_versicolor    float64\n",
       "species_virginica     float64\n",
       "dtype: object"
      ]
     },
     "execution_count": 25,
     "metadata": {},
     "output_type": "execute_result"
    }
   ],
   "source": [
    "df_h.dtypes"
   ]
  },
  {
   "cell_type": "code",
   "execution_count": 26,
   "metadata": {
    "collapsed": false
   },
   "outputs": [
    {
     "name": "stdout",
     "output_type": "stream",
     "text": [
      "inputs:\n",
      " [[-0.89767388  1.02861128 -1.33679402]\n",
      " [-1.13920048 -0.12454038 -1.33679402]\n",
      " [-1.38072709  0.33672028 -1.39346985]]\n",
      "\n",
      "outputs:\n",
      " [[ 1.  0.  0.]\n",
      " [ 1.  0.  0.]\n",
      " [ 1.  0.  0.]]\n",
      "input shape: (150, 4)\n",
      "output shape: (150, 3)\n"
     ]
    }
   ],
   "source": [
    "# define inputs and outputs\n",
    "inputs = df_h.values[:, :4]\n",
    "output = df_h.values[:, 4:]\n",
    "\n",
    "print(\"inputs:\\n\", inputs[0:3, 0:3])\n",
    "print(\"\\noutputs:\\n\", output[0:3, 0:3])\n",
    "\n",
    "print(\"input shape:\", inputs.shape)\n",
    "print(\"output shape:\", output.shape)"
   ]
  },
  {
   "cell_type": "code",
   "execution_count": 27,
   "metadata": {
    "collapsed": false
   },
   "outputs": [],
   "source": [
    "# Tensorflow computation graph\n",
    "\n",
    "# y = softmax(w*x + b)\n",
    "x = tf.constant(inputs, dtype='float32', shape=[150, 4])\n",
    "y = tf.constant(output, dtype='float32', shape=[150, 3])\n",
    "\n",
    "w = tf.Variable(tf.truncated_normal([4, 3], stddev=0.001))\n",
    "b = tf.Variable(tf.truncated_normal([3], stddev=0.001))\n",
    "\n",
    "# error loss function\n",
    "MSE = tf.reduce_mean(tf.square(tf.nn.softmax(tf.matmul(x, w) + b) - y))\n",
    "\n",
    "# define optimizer\n",
    "optimizer = tf.train.AdamOptimizer(learning_rate=0.001, epsilon=1e-10).minimize(MSE)\n",
    "\n",
    "y_pred = tf.nn.softmax(tf.matmul(x, w) + b)\n",
    "\n",
    "init = tf.initialize_all_variables()"
   ]
  },
  {
   "cell_type": "code",
   "execution_count": 28,
   "metadata": {
    "collapsed": true
   },
   "outputs": [],
   "source": [
    "sess = tf.Session()\n",
    "sess.run(init)"
   ]
  },
  {
   "cell_type": "code",
   "execution_count": 9,
   "metadata": {
    "collapsed": false
   },
   "outputs": [
    {
     "name": "stdout",
     "output_type": "stream",
     "text": [
      "step = 0     MSE = 0.222060  \n",
      "step = 1000  MSE = 0.064329  \n",
      "step = 2000  MSE = 0.037964  \n",
      "step = 3000  MSE = 0.026205  \n",
      "step = 4000  MSE = 0.019910  \n",
      "step = 5000  MSE = 0.016121  \n",
      "step = 6000  MSE = 0.013689  \n",
      "step = 7000  MSE = 0.012066  \n",
      "step = 8000  MSE = 0.010952  \n",
      "step = 9000  MSE = 0.010171  \n",
      "step = 10000 MSE = 0.009613  \n",
      "step = 11000 MSE = 0.009210  \n",
      "step = 12000 MSE = 0.008917  \n",
      "step = 13000 MSE = 0.008706  \n",
      "step = 14000 MSE = 0.008559  \n",
      "step = 15000 MSE = 0.008461  \n",
      "step = 16000 MSE = 0.008399  \n",
      "step = 17000 MSE = 0.008328  \n",
      "step = 18000 MSE = 0.008191  \n",
      "step = 19000 MSE = 0.008026  \n",
      "step = 20000 MSE = 0.007858  \n",
      "step = 21000 MSE = 0.007694  \n",
      "step = 22000 MSE = 0.007535  \n",
      "step = 23000 MSE = 0.007381  \n",
      "step = 24000 MSE = 0.007234  \n",
      "step = 25000 MSE = 0.007092  \n",
      "step = 26000 MSE = 0.006955  \n",
      "step = 27000 MSE = 0.006825  \n",
      "step = 28000 MSE = 0.006700  \n",
      "step = 29000 MSE = 0.006581  \n",
      "step = 30000 MSE = 0.006467  \n",
      "step = 31000 MSE = 0.006359  \n",
      "step = 32000 MSE = 0.006256  \n",
      "step = 33000 MSE = 0.006157  \n",
      "step = 34000 MSE = 0.006064  \n",
      "step = 35000 MSE = 0.005976  \n",
      "step = 36000 MSE = 0.005891  \n",
      "step = 37000 MSE = 0.005812  \n",
      "step = 38000 MSE = 0.005736  \n",
      "step = 39000 MSE = 0.005664  \n",
      "step = 40000 MSE = 0.005596  \n",
      "done!\n"
     ]
    }
   ],
   "source": [
    "MAXSTEPS = 40000\n",
    "for step in range(MAXSTEPS + 1):\n",
    "    (_, mse, w0, b0) = sess.run([optimizer, MSE, w, b])\n",
    "    if (step % 1000) == 0:\n",
    "        print('step = %-5d MSE = %-10f' % (step, mse))\n",
    "print('done!')"
   ]
  },
  {
   "cell_type": "code",
   "execution_count": 41,
   "metadata": {
    "collapsed": true
   },
   "outputs": [],
   "source": [
    "# make predictions\n",
    "predictions = sess.run(y_pred)"
   ]
  },
  {
   "cell_type": "code",
   "execution_count": 42,
   "metadata": {
    "collapsed": false
   },
   "outputs": [
    {
     "name": "stdout",
     "output_type": "stream",
     "text": [
      "MSE =  0.221879298139\n",
      "RMSE =  0.471040654444\n",
      "output's standard deviation =  0.471404520791\n",
      "difference between RMSE of model and std of LogRatios:  0.000363866346642\n"
     ]
    }
   ],
   "source": [
    "# check mean square error\n",
    "mse = ((output - predictions) ** 2).mean()\n",
    "rmse = np.sqrt(mse)\n",
    "print('MSE = ', mse)\n",
    "print('RMSE = ', rmse)\n",
    "print('output\\'s standard deviation = ', output.std())\n",
    "print('difference between RMSE of model and std of LogRatios: ', (output.std() - rmse))"
   ]
  },
  {
   "cell_type": "markdown",
   "metadata": {},
   "source": [
    "#### Part (b):  Repeat part (a) using Sklearn"
   ]
  },
  {
   "cell_type": "code",
   "execution_count": 29,
   "metadata": {
    "collapsed": false
   },
   "outputs": [],
   "source": [
    "from sklearn.linear_model import LogisticRegression\n",
    "from sklearn.metrics import mean_squared_error\n",
    "from sklearn.metrics import accuracy_score\n",
    "LR = LogisticRegression(solver='lbfgs', multi_class='multinomial')"
   ]
  },
  {
   "cell_type": "code",
   "execution_count": 36,
   "metadata": {
    "collapsed": false
   },
   "outputs": [
    {
     "data": {
      "text/plain": [
       "LogisticRegression(C=1.0, class_weight=None, dual=False, fit_intercept=True,\n",
       "          intercept_scaling=1, max_iter=100, multi_class='multinomial',\n",
       "          n_jobs=1, penalty='l2', random_state=None, solver='lbfgs',\n",
       "          tol=0.0001, verbose=0, warm_start=False)"
      ]
     },
     "execution_count": 36,
     "metadata": {},
     "output_type": "execute_result"
    }
   ],
   "source": [
    "LR.fit(inputs, df.species.values)"
   ]
  },
  {
   "cell_type": "code",
   "execution_count": 44,
   "metadata": {
    "collapsed": true
   },
   "outputs": [],
   "source": [
    "# predict species probabilities\n",
    "predictions_sk = LR.predict_proba(inputs)"
   ]
  },
  {
   "cell_type": "code",
   "execution_count": 46,
   "metadata": {
    "collapsed": false
   },
   "outputs": [
    {
     "name": "stdout",
     "output_type": "stream",
     "text": [
      "Sklearn mse:  0.0187161148142\n"
     ]
    }
   ],
   "source": [
    "mse_sk = mean_squared_error(output, predictions_sk)\n",
    "print(\"Sklearn mse: \", mse_sk)"
   ]
  },
  {
   "cell_type": "markdown",
   "metadata": {},
   "source": [
    "#### Part (c): Compate Tensorflow's MSE to that of Sklearn"
   ]
  },
  {
   "cell_type": "code",
   "execution_count": 47,
   "metadata": {
    "collapsed": false
   },
   "outputs": [
    {
     "name": "stdout",
     "output_type": "stream",
     "text": [
      "TensorFlow's MSE:  0.221879298139\n",
      "Sklearn's MSE:  0.0187161148142\n"
     ]
    }
   ],
   "source": [
    "print(\"TensorFlow's MSE: \", mse)\n",
    "print(\"Sklearn's MSE: \", mse_sk)"
   ]
  },
  {
   "cell_type": "markdown",
   "metadata": {},
   "source": [
    "#### Part (d): Compare TensorFlow's error rate to that of Sklearn"
   ]
  },
  {
   "cell_type": "markdown",
   "metadata": {},
   "source": [
    "accuracy = (# of correct predictions) / (total # of predictions)\n",
    "\n",
    "error rate = 1 - accuracy"
   ]
  },
  {
   "cell_type": "code",
   "execution_count": 54,
   "metadata": {
    "collapsed": false
   },
   "outputs": [
    {
     "name": "stdout",
     "output_type": "stream",
     "text": [
      "TensorFlow's accuracy:  0.726666666667\n",
      "Sklearn's accuracy:  0.973333333333\n"
     ]
    }
   ],
   "source": [
    "accuracy = accuracy_score(np.argmax(output, axis=1), np.argmax(predictions, axis=1))\n",
    "accuracy_sk = accuracy_score(np.argmax(output, axis=1), np.argmax(predictions_sk, axis=1))\n",
    "\n",
    "print(\"TensorFlow's accuracy: \", accuracy)\n",
    "print(\"Sklearn's accuracy: \", accuracy_sk)"
   ]
  },
  {
   "cell_type": "markdown",
   "metadata": {},
   "source": [
    "#### Visualize Results"
   ]
  },
  {
   "cell_type": "code",
   "execution_count": 16,
   "metadata": {
    "collapsed": false
   },
   "outputs": [
    {
     "data": {
      "text/plain": [
       "<matplotlib.axes._subplots.AxesSubplot at 0x7f6094063cc0>"
      ]
     },
     "execution_count": 16,
     "metadata": {},
     "output_type": "execute_result"
    },
    {
     "data": {
      "image/png": "[encoded data removed]",
      "text/plain": [
       "<matplotlib.figure.Figure at 0x7f607c14d438>"
      ]
     },
     "metadata": {},
     "output_type": "display_data"
    }
   ],
   "source": [
    "colors = np.array(['r', 'g', 'b'])\n",
    "color_map = colors[predictions.argmax(axis=1)]\n",
    "df.plot.scatter(x='petal length', y='petal width', c=color_map, s=100, alpha=0.4)"
   ]
  },
  {
   "cell_type": "code",
   "execution_count": null,
   "metadata": {
    "collapsed": true
   },
   "outputs": [],
   "source": []
  }
 ],
 "metadata": {
  "anaconda-cloud": {},
  "kernelspec": {
   "display_name": "Python [Root]",
   "language": "python",
   "name": "Python [Root]"
  },
  "language_info": {
   "codemirror_mode": {
    "name": "ipython",
    "version": 3
   },
   "file_extension": ".py",
   "mimetype": "text/x-python",
   "name": "python",
   "nbconvert_exporter": "python",
   "pygments_lexer": "ipython3",
   "version": "3.5.2"
  }
 },
 "nbformat": 4,
 "nbformat_minor": 0
}
