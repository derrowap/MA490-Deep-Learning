{
 "cells": [
  {
   "cell_type": "markdown",
   "metadata": {},
   "source": [
    "# Lesson 05 - Generating Additional Features\n",
    "Austin Derrow-Pinion CM208"
   ]
  },
  {
   "cell_type": "code",
   "execution_count": 1,
   "metadata": {
    "collapsed": true
   },
   "outputs": [],
   "source": [
    "import numpy as np\n",
    "import pandas as pd\n",
    "import tensorflow as tf\n",
    "import matplotlib.pyplot as plt\n",
    "from sklearn.preprocessing import scale\n",
    "%matplotlib inline"
   ]
  },
  {
   "cell_type": "code",
   "execution_count": 2,
   "metadata": {
    "collapsed": false
   },
   "outputs": [
    {
     "data": {
      "text/html": [
       "<div>\n",
       "<table border=\"1\" class=\"dataframe\">\n",
       "  <thead>\n",
       "    <tr style=\"text-align: right;\">\n",
       "      <th></th>\n",
       "      <th>height</th>\n",
       "      <th>weight</th>\n",
       "    </tr>\n",
       "  </thead>\n",
       "  <tbody>\n",
       "    <tr>\n",
       "      <th>0</th>\n",
       "      <td>67.17704</td>\n",
       "      <td>127.8719</td>\n",
       "    </tr>\n",
       "    <tr>\n",
       "      <th>1</th>\n",
       "      <td>67.06687</td>\n",
       "      <td>123.2179</td>\n",
       "    </tr>\n",
       "    <tr>\n",
       "      <th>2</th>\n",
       "      <td>72.42515</td>\n",
       "      <td>129.0739</td>\n",
       "    </tr>\n",
       "    <tr>\n",
       "      <th>3</th>\n",
       "      <td>68.80719</td>\n",
       "      <td>142.8541</td>\n",
       "    </tr>\n",
       "    <tr>\n",
       "      <th>4</th>\n",
       "      <td>69.20003</td>\n",
       "      <td>131.5186</td>\n",
       "    </tr>\n",
       "  </tbody>\n",
       "</table>\n",
       "</div>"
      ],
      "text/plain": [
       "     height    weight\n",
       "0  67.17704  127.8719\n",
       "1  67.06687  123.2179\n",
       "2  72.42515  129.0739\n",
       "3  68.80719  142.8541\n",
       "4  69.20003  131.5186"
      ]
     },
     "execution_count": 2,
     "metadata": {},
     "output_type": "execute_result"
    }
   ],
   "source": [
    "df = pd.read_csv('./Data/height_weight_10.csv')\n",
    "df.head()"
   ]
  },
  {
   "cell_type": "markdown",
   "metadata": {},
   "source": [
    "#### Part (1): Generate an additional input feature equal to (height)^2"
   ]
  },
  {
   "cell_type": "code",
   "execution_count": 3,
   "metadata": {
    "collapsed": false
   },
   "outputs": [
    {
     "data": {
      "text/html": [
       "<div>\n",
       "<table border=\"1\" class=\"dataframe\">\n",
       "  <thead>\n",
       "    <tr style=\"text-align: right;\">\n",
       "      <th></th>\n",
       "      <th>height</th>\n",
       "      <th>weight</th>\n",
       "      <th>height^2</th>\n",
       "    </tr>\n",
       "  </thead>\n",
       "  <tbody>\n",
       "    <tr>\n",
       "      <th>0</th>\n",
       "      <td>67.17704</td>\n",
       "      <td>127.8719</td>\n",
       "      <td>4512.754703</td>\n",
       "    </tr>\n",
       "    <tr>\n",
       "      <th>1</th>\n",
       "      <td>67.06687</td>\n",
       "      <td>123.2179</td>\n",
       "      <td>4497.965052</td>\n",
       "    </tr>\n",
       "    <tr>\n",
       "      <th>2</th>\n",
       "      <td>72.42515</td>\n",
       "      <td>129.0739</td>\n",
       "      <td>5245.402353</td>\n",
       "    </tr>\n",
       "    <tr>\n",
       "      <th>3</th>\n",
       "      <td>68.80719</td>\n",
       "      <td>142.8541</td>\n",
       "      <td>4734.429396</td>\n",
       "    </tr>\n",
       "    <tr>\n",
       "      <th>4</th>\n",
       "      <td>69.20003</td>\n",
       "      <td>131.5186</td>\n",
       "      <td>4788.644152</td>\n",
       "    </tr>\n",
       "  </tbody>\n",
       "</table>\n",
       "</div>"
      ],
      "text/plain": [
       "     height    weight     height^2\n",
       "0  67.17704  127.8719  4512.754703\n",
       "1  67.06687  123.2179  4497.965052\n",
       "2  72.42515  129.0739  5245.402353\n",
       "3  68.80719  142.8541  4734.429396\n",
       "4  69.20003  131.5186  4788.644152"
      ]
     },
     "execution_count": 3,
     "metadata": {},
     "output_type": "execute_result"
    }
   ],
   "source": [
    "df['height^2'] = df.height.values ** 2\n",
    "df.head()"
   ]
  },
  {
   "cell_type": "markdown",
   "metadata": {},
   "source": [
    "#### Part (2): Standardize the data"
   ]
  },
  {
   "cell_type": "code",
   "execution_count": 4,
   "metadata": {
    "collapsed": false
   },
   "outputs": [
    {
     "name": "stdout",
     "output_type": "stream",
     "text": [
      "2.64649413495e-15\n",
      "-9.32587340685e-16\n"
     ]
    }
   ],
   "source": [
    "# define raw data\n",
    "features = np.array([df.height.values, df['height^2'].values]).transpose().reshape((10, 2)).astype(np.float64)\n",
    "weight = df.weight.values.astype(np.float64)\n",
    "\n",
    "# standardize data\n",
    "features_s = scale(features)\n",
    "weight_s = scale(weight)\n",
    "print(features_s.mean())\n",
    "print(weight_s.mean())"
   ]
  },
  {
   "cell_type": "markdown",
   "metadata": {},
   "source": [
    "#### Part (3): Use TensorFlow to compute the best fit plane to the data set"
   ]
  },
  {
   "cell_type": "code",
   "execution_count": 5,
   "metadata": {
    "collapsed": false
   },
   "outputs": [],
   "source": [
    "# Tensorflow\n",
    "\n",
    "# y = w*x + b\n",
    "x = tf.constant(features_s, dtype='float32', shape=[10, 2])\n",
    "y = tf.constant(weight_s, dtype='float32', shape=[10, 1])\n",
    "w = tf.Variable(tf.truncated_normal([2, 1], stddev=1))\n",
    "b = tf.Variable(0.0)\n",
    "\n",
    "# error loss function\n",
    "MSE = tf.reduce_mean(tf.square(tf.matmul(x, w) + b - y))\n",
    "\n",
    "# define optimizer\n",
    "STEPSIZE = 0.4\n",
    "optimizer = tf.train.GradientDescentOptimizer(STEPSIZE).minimize(MSE)\n",
    "\n",
    "# prediction with current weights\n",
    "y_pred = tf.matmul(x, w) + b\n",
    "\n",
    "# init all variables\n",
    "init = tf.initialize_all_variables()"
   ]
  },
  {
   "cell_type": "code",
   "execution_count": 6,
   "metadata": {
    "collapsed": true
   },
   "outputs": [],
   "source": [
    "sess = tf.Session()\n",
    "sess.run(init)"
   ]
  },
  {
   "cell_type": "code",
   "execution_count": 7,
   "metadata": {
    "collapsed": false
   },
   "outputs": [
    {
     "name": "stdout",
     "output_type": "stream",
     "text": [
      "step = 0     MSE = 1.174884  \n",
      "step = 1000  MSE = 0.503091  \n",
      "step = 2000  MSE = 0.455835  \n",
      "step = 3000  MSE = 0.417464  \n",
      "step = 4000  MSE = 0.386308  \n",
      "step = 5000  MSE = 0.361011  \n",
      "step = 6000  MSE = 0.340469  \n",
      "step = 7000  MSE = 0.323791  \n",
      "step = 8000  MSE = 0.310249  \n",
      "step = 9000  MSE = 0.299253  \n",
      "step = 10000 MSE = 0.290324  \n",
      "step = 11000 MSE = 0.283075  \n",
      "step = 12000 MSE = 0.277188  \n",
      "step = 13000 MSE = 0.272409  \n",
      "step = 14000 MSE = 0.268528  \n",
      "step = 15000 MSE = 0.265377  \n",
      "step = 16000 MSE = 0.262818  \n",
      "step = 17000 MSE = 0.260740  \n",
      "step = 18000 MSE = 0.259054  \n",
      "step = 19000 MSE = 0.257684  \n",
      "step = 20000 MSE = 0.256572  \n",
      "done!\n"
     ]
    }
   ],
   "source": [
    "MAXSTEPS = 20000\n",
    "for step in range(MAXSTEPS + 1):\n",
    "    (_, mse, w0, b0) = sess.run([optimizer, MSE, w, b])\n",
    "    if (step % 1000) == 0:\n",
    "        print('step = %-5d MSE = %-10f' % (step, mse))\n",
    "print('done!')"
   ]
  },
  {
   "cell_type": "code",
   "execution_count": 9,
   "metadata": {
    "collapsed": false
   },
   "outputs": [
    {
     "name": "stdout",
     "output_type": "stream",
     "text": [
      "The best fit plane:\n",
      "y = 32.339 * height + -31.703 * (height^2) + -0.000\n"
     ]
    }
   ],
   "source": [
    "print(\"The best fit plane:\")\n",
    "print(\"y = %0.3f * height + %0.3f * (height^2) + %0.3f\" % (w0[0], w0[1], b0))"
   ]
  },
  {
   "cell_type": "markdown",
   "metadata": {},
   "source": [
    "#### Part (4): Use TensorFlow and the best fit plane to predict standardized weights"
   ]
  },
  {
   "cell_type": "code",
   "execution_count": 10,
   "metadata": {
    "collapsed": false
   },
   "outputs": [
    {
     "name": "stdout",
     "output_type": "stream",
     "text": [
      "[[-0.20090595]\n",
      " [-0.28930488]\n",
      " [ 0.5482024 ]\n",
      " [ 0.75786579]\n",
      " [ 0.89107883]\n",
      " [ 0.97134197]\n",
      " [-0.64896786]\n",
      " [-0.74102795]\n",
      " [-1.68857586]\n",
      " [ 0.40030196]]\n"
     ]
    }
   ],
   "source": [
    "pred_s = sess.run(y_pred)\n",
    "print(pred_s)"
   ]
  },
  {
   "cell_type": "markdown",
   "metadata": {},
   "source": [
    "#### Part (5): Unstandardize the predicted weights"
   ]
  },
  {
   "cell_type": "code",
   "execution_count": 17,
   "metadata": {
    "collapsed": false
   },
   "outputs": [
    {
     "name": "stdout",
     "output_type": "stream",
     "text": [
      "[[ 123.28104401]\n",
      " [ 122.31077576]\n",
      " [ 131.50326538]\n",
      " [ 133.80453491]\n",
      " [ 135.26667786]\n",
      " [ 136.14764404]\n",
      " [ 118.3631134 ]\n",
      " [ 117.35266113]\n",
      " [ 106.95236206]\n",
      " [ 129.87991333]]\n",
      "Unstandardized equation:\n",
      "y = 2.946 * height - 2.888 * (height^2) - 11.433\n"
     ]
    }
   ],
   "source": [
    "pred = pred_s * weight.std() + weight.mean()\n",
    "print(pred)\n",
    "\n",
    "w1 = w0 / weight.std()\n",
    "b1 = (b0 - weight.mean()) / weight.std()\n",
    "print(\"Unstandardized equation:\")\n",
    "print(\"y = %0.3f * height - %0.3f * (height^2) - %0.3f\" % (w1[0], -1 * w1[1], b1 * -1))"
   ]
  },
  {
   "cell_type": "markdown",
   "metadata": {},
   "source": [
    "#### Part (6): Plot predicted and actual weights on the same plot"
   ]
  },
  {
   "cell_type": "code",
   "execution_count": 18,
   "metadata": {
    "collapsed": false
   },
   "outputs": [
    {
     "data": {
      "text/plain": [
       "<matplotlib.collections.PathCollection at 0x7f8154020f60>"
      ]
     },
     "execution_count": 18,
     "metadata": {},
     "output_type": "execute_result"
    },
    {
     "data": {
      "image/png": "[encoded data removed]",
      "text/plain": [
       "<matplotlib.figure.Figure at 0x7f81740e10b8>"
      ]
     },
     "metadata": {},
     "output_type": "display_data"
    }
   ],
   "source": [
    "plt.scatter(weight, pred, alpha=0.2, color=['red', 'blue'])"
   ]
  },
  {
   "cell_type": "markdown",
   "metadata": {},
   "source": [
    "#### Part (7): Compute MSE"
   ]
  },
  {
   "cell_type": "code",
   "execution_count": 19,
   "metadata": {
    "collapsed": false
   },
   "outputs": [
    {
     "name": "stdout",
     "output_type": "stream",
     "text": [
      "MSE =  30.9098387565\n",
      "RMSE =  5.55966174839\n"
     ]
    }
   ],
   "source": [
    "mse = ((weight - pred.flatten()) ** 2).mean()\n",
    "print('MSE = ', mse)\n",
    "print('RMSE = ', np.sqrt(mse))"
   ]
  }
 ],
 "metadata": {
  "anaconda-cloud": {},
  "kernelspec": {
   "display_name": "Python [Root]",
   "language": "python",
   "name": "Python [Root]"
  },
  "language_info": {
   "codemirror_mode": {
    "name": "ipython",
    "version": 3
   },
   "file_extension": ".py",
   "mimetype": "text/x-python",
   "name": "python",
   "nbconvert_exporter": "python",
   "pygments_lexer": "ipython3",
   "version": "3.5.2"
  }
 },
 "nbformat": 4,
 "nbformat_minor": 0
}
