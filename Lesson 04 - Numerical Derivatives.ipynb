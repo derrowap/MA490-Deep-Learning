{
 "cells": [
  {
   "cell_type": "markdown",
   "metadata": {},
   "source": [
    "# Lesson 04 - Numerical Derivatives\n",
    "Austin Derrow-Pinion CM208"
   ]
  },
  {
   "cell_type": "code",
   "execution_count": 1,
   "metadata": {
    "collapsed": true
   },
   "outputs": [],
   "source": [
    "import numpy as np\n",
    "import pandas as pd\n",
    "import matplotlib.pyplot as plt\n",
    "%matplotlib inline"
   ]
  },
  {
   "cell_type": "code",
   "execution_count": 3,
   "metadata": {
    "collapsed": true
   },
   "outputs": [],
   "source": [
    "# define function\n",
    "def f(x, y):\n",
    "    return 300 - 2 * (x ** 2) - 3 * (y ** 2)"
   ]
  },
  {
   "cell_type": "markdown",
   "metadata": {},
   "source": [
    "#### Part (a)"
   ]
  },
  {
   "cell_type": "code",
   "execution_count": 4,
   "metadata": {
    "collapsed": true
   },
   "outputs": [],
   "source": [
    "def df(x, y):\n",
    "    return np.array([-4 * x, -6 * y])"
   ]
  },
  {
   "cell_type": "markdown",
   "metadata": {},
   "source": [
    "#### Part (b)"
   ]
  },
  {
   "cell_type": "code",
   "execution_count": 5,
   "metadata": {
    "collapsed": true
   },
   "outputs": [],
   "source": [
    "epsilon = 10 ** -5\n",
    "def forward_diff(x, y):\n",
    "    return np.array([(f(x + epsilon, y) - f(x, y)) / epsilon,\n",
    "                     (f(x, y + epsilon) - f(x, y)) / epsilon])"
   ]
  },
  {
   "cell_type": "markdown",
   "metadata": {},
   "source": [
    "#### Part (c)"
   ]
  },
  {
   "cell_type": "code",
   "execution_count": 6,
   "metadata": {
    "collapsed": true
   },
   "outputs": [],
   "source": [
    "def central_diff(x, y):\n",
    "    return np.array([(f(x + epsilon, y) - f(x - epsilon, y)) / (2 * epsilon),\n",
    "                     (f(x, y + epsilon) - f(x, y - epsilon)) / (2 * epsilon)])"
   ]
  },
  {
   "cell_type": "markdown",
   "metadata": {},
   "source": [
    "#### Part (d)"
   ]
  },
  {
   "cell_type": "code",
   "execution_count": 9,
   "metadata": {
    "collapsed": false
   },
   "outputs": [
    {
     "name": "stdout",
     "output_type": "stream",
     "text": [
      "Exact gradient:\n",
      "[ -20 -300]\n",
      "\n",
      "Forward difference approximation:\n",
      "[ -20.00001996 -300.00003007]\n",
      "\n",
      "Central difference approximation:\n",
      "[ -19.99999999 -300.00000006]\n"
     ]
    }
   ],
   "source": [
    "x = 5\n",
    "y = 50\n",
    "part_a = df(x, y)\n",
    "part_b = forward_diff(x, y)\n",
    "part_c = central_diff(x, y)\n",
    "\n",
    "print(\"Exact gradient:\")\n",
    "print(part_a)\n",
    "\n",
    "print(\"\\nForward difference approximation:\")\n",
    "print(part_b)\n",
    "\n",
    "print(\"\\nCentral difference approximation:\")\n",
    "print(part_c)"
   ]
  },
  {
   "cell_type": "code",
   "execution_count": null,
   "metadata": {
    "collapsed": true
   },
   "outputs": [],
   "source": []
  }
 ],
 "metadata": {
  "kernelspec": {
   "display_name": "Python [Root]",
   "language": "python",
   "name": "Python [Root]"
  },
  "language_info": {
   "codemirror_mode": {
    "name": "ipython",
    "version": 3
   },
   "file_extension": ".py",
   "mimetype": "text/x-python",
   "name": "python",
   "nbconvert_exporter": "python",
   "pygments_lexer": "ipython3",
   "version": "3.5.2"
  }
 },
 "nbformat": 4,
 "nbformat_minor": 0
}
