{
 "cells": [
  {
   "cell_type": "markdown",
   "metadata": {},
   "source": [
    "# Test 1\n",
    "Austin Derrow-Pinion"
   ]
  },
  {
   "cell_type": "code",
   "execution_count": 1,
   "metadata": {
    "collapsed": true
   },
   "outputs": [],
   "source": [
    "import numpy as np\n",
    "import pandas as pd\n",
    "import tensorflow as tf\n",
    "from sklearn.preprocessing import scale\n",
    "from sklearn.metrics import accuracy_score"
   ]
  },
  {
   "cell_type": "code",
   "execution_count": 2,
   "metadata": {
    "collapsed": false
   },
   "outputs": [
    {
     "name": "stdout",
     "output_type": "stream",
     "text": [
      "(200, 6)\n"
     ]
    },
    {
     "data": {
      "text/html": [
       "<div>\n",
       "<table border=\"1\" class=\"dataframe\">\n",
       "  <thead>\n",
       "    <tr style=\"text-align: right;\">\n",
       "      <th></th>\n",
       "      <th>age</th>\n",
       "      <th>trestbps</th>\n",
       "      <th>chol</th>\n",
       "      <th>sex</th>\n",
       "      <th>fbs</th>\n",
       "      <th>num</th>\n",
       "    </tr>\n",
       "  </thead>\n",
       "  <tbody>\n",
       "    <tr>\n",
       "      <th>0</th>\n",
       "      <td>46.0</td>\n",
       "      <td>138.0</td>\n",
       "      <td>243.0</td>\n",
       "      <td>0.0</td>\n",
       "      <td>0.0</td>\n",
       "      <td>0.0</td>\n",
       "    </tr>\n",
       "    <tr>\n",
       "      <th>1</th>\n",
       "      <td>57.0</td>\n",
       "      <td>150.0</td>\n",
       "      <td>168.0</td>\n",
       "      <td>1.0</td>\n",
       "      <td>0.0</td>\n",
       "      <td>0.0</td>\n",
       "    </tr>\n",
       "    <tr>\n",
       "      <th>2</th>\n",
       "      <td>47.0</td>\n",
       "      <td>112.0</td>\n",
       "      <td>204.0</td>\n",
       "      <td>1.0</td>\n",
       "      <td>0.0</td>\n",
       "      <td>0.0</td>\n",
       "    </tr>\n",
       "    <tr>\n",
       "      <th>3</th>\n",
       "      <td>54.0</td>\n",
       "      <td>122.0</td>\n",
       "      <td>286.0</td>\n",
       "      <td>1.0</td>\n",
       "      <td>0.0</td>\n",
       "      <td>1.0</td>\n",
       "    </tr>\n",
       "    <tr>\n",
       "      <th>4</th>\n",
       "      <td>29.0</td>\n",
       "      <td>130.0</td>\n",
       "      <td>204.0</td>\n",
       "      <td>1.0</td>\n",
       "      <td>0.0</td>\n",
       "      <td>0.0</td>\n",
       "    </tr>\n",
       "  </tbody>\n",
       "</table>\n",
       "</div>"
      ],
      "text/plain": [
       "    age  trestbps   chol  sex  fbs  num\n",
       "0  46.0     138.0  243.0  0.0  0.0  0.0\n",
       "1  57.0     150.0  168.0  1.0  0.0  0.0\n",
       "2  47.0     112.0  204.0  1.0  0.0  0.0\n",
       "3  54.0     122.0  286.0  1.0  0.0  1.0\n",
       "4  29.0     130.0  204.0  1.0  0.0  0.0"
      ]
     },
     "execution_count": 2,
     "metadata": {},
     "output_type": "execute_result"
    }
   ],
   "source": [
    "# read training data\n",
    "df_train = pd.read_csv('./Data/HeartDisease_train.csv')\n",
    "print(df_train.shape)\n",
    "df_train.head()"
   ]
  },
  {
   "cell_type": "code",
   "execution_count": 3,
   "metadata": {
    "collapsed": false
   },
   "outputs": [
    {
     "name": "stdout",
     "output_type": "stream",
     "text": [
      "(97, 6)\n"
     ]
    },
    {
     "data": {
      "text/html": [
       "<div>\n",
       "<table border=\"1\" class=\"dataframe\">\n",
       "  <thead>\n",
       "    <tr style=\"text-align: right;\">\n",
       "      <th></th>\n",
       "      <th>age</th>\n",
       "      <th>trestbps</th>\n",
       "      <th>chol</th>\n",
       "      <th>sex</th>\n",
       "      <th>fbs</th>\n",
       "      <th>num</th>\n",
       "    </tr>\n",
       "  </thead>\n",
       "  <tbody>\n",
       "    <tr>\n",
       "      <th>0</th>\n",
       "      <td>76.0</td>\n",
       "      <td>140.0</td>\n",
       "      <td>197.0</td>\n",
       "      <td>0.0</td>\n",
       "      <td>0.0</td>\n",
       "      <td>0.0</td>\n",
       "    </tr>\n",
       "    <tr>\n",
       "      <th>1</th>\n",
       "      <td>64.0</td>\n",
       "      <td>125.0</td>\n",
       "      <td>309.0</td>\n",
       "      <td>1.0</td>\n",
       "      <td>0.0</td>\n",
       "      <td>1.0</td>\n",
       "    </tr>\n",
       "    <tr>\n",
       "      <th>2</th>\n",
       "      <td>43.0</td>\n",
       "      <td>150.0</td>\n",
       "      <td>247.0</td>\n",
       "      <td>1.0</td>\n",
       "      <td>0.0</td>\n",
       "      <td>0.0</td>\n",
       "    </tr>\n",
       "    <tr>\n",
       "      <th>3</th>\n",
       "      <td>41.0</td>\n",
       "      <td>135.0</td>\n",
       "      <td>203.0</td>\n",
       "      <td>1.0</td>\n",
       "      <td>0.0</td>\n",
       "      <td>0.0</td>\n",
       "    </tr>\n",
       "    <tr>\n",
       "      <th>4</th>\n",
       "      <td>55.0</td>\n",
       "      <td>130.0</td>\n",
       "      <td>262.0</td>\n",
       "      <td>1.0</td>\n",
       "      <td>0.0</td>\n",
       "      <td>0.0</td>\n",
       "    </tr>\n",
       "  </tbody>\n",
       "</table>\n",
       "</div>"
      ],
      "text/plain": [
       "    age  trestbps   chol  sex  fbs  num\n",
       "0  76.0     140.0  197.0  0.0  0.0  0.0\n",
       "1  64.0     125.0  309.0  1.0  0.0  1.0\n",
       "2  43.0     150.0  247.0  1.0  0.0  0.0\n",
       "3  41.0     135.0  203.0  1.0  0.0  0.0\n",
       "4  55.0     130.0  262.0  1.0  0.0  0.0"
      ]
     },
     "execution_count": 3,
     "metadata": {},
     "output_type": "execute_result"
    }
   ],
   "source": [
    "# read test data\n",
    "df_test = pd.read_csv('./Data/HeartDisease_test.csv')\n",
    "print(df_test.shape)\n",
    "df_test.head()"
   ]
  },
  {
   "cell_type": "code",
   "execution_count": 4,
   "metadata": {
    "collapsed": true
   },
   "outputs": [],
   "source": [
    "# one-hot-encode appropriate columns\n",
    "col_to_one_hot_encode  = ['sex','fbs','num']\n",
    "for col in col_to_one_hot_encode:\n",
    "    df_train[col] = df_train[col].astype('category')\n",
    "    df_test[col] = df_test[col].astype('category')\n",
    "df_train = pd.get_dummies(df_train)\n",
    "df_test  = pd.get_dummies(df_test)"
   ]
  },
  {
   "cell_type": "code",
   "execution_count": 5,
   "metadata": {
    "collapsed": true
   },
   "outputs": [],
   "source": [
    "# scale appropriate columns\n",
    "col_to_scale = ['age','trestbps','chol']\n",
    "df_train[col_to_scale] = scale(df_train[col_to_scale])\n",
    "df_test[col_to_scale]  = scale(df_test[col_to_scale])"
   ]
  },
  {
   "cell_type": "code",
   "execution_count": 6,
   "metadata": {
    "collapsed": false
   },
   "outputs": [
    {
     "data": {
      "text/html": [
       "<div>\n",
       "<table border=\"1\" class=\"dataframe\">\n",
       "  <thead>\n",
       "    <tr style=\"text-align: right;\">\n",
       "      <th></th>\n",
       "      <th>count</th>\n",
       "      <th>mean</th>\n",
       "      <th>std</th>\n",
       "      <th>min</th>\n",
       "      <th>25%</th>\n",
       "      <th>50%</th>\n",
       "      <th>75%</th>\n",
       "      <th>max</th>\n",
       "    </tr>\n",
       "  </thead>\n",
       "  <tbody>\n",
       "    <tr>\n",
       "      <th>age</th>\n",
       "      <td>200.0</td>\n",
       "      <td>-3.386180e-16</td>\n",
       "      <td>1.002509</td>\n",
       "      <td>-2.788287</td>\n",
       "      <td>-0.821627</td>\n",
       "      <td>0.161703</td>\n",
       "      <td>0.707998</td>\n",
       "      <td>2.456140</td>\n",
       "    </tr>\n",
       "    <tr>\n",
       "      <th>trestbps</th>\n",
       "      <td>200.0</td>\n",
       "      <td>8.071321e-16</td>\n",
       "      <td>1.002509</td>\n",
       "      <td>-2.123597</td>\n",
       "      <td>-0.651825</td>\n",
       "      <td>-0.085759</td>\n",
       "      <td>0.480307</td>\n",
       "      <td>2.744572</td>\n",
       "    </tr>\n",
       "    <tr>\n",
       "      <th>chol</th>\n",
       "      <td>200.0</td>\n",
       "      <td>-1.126876e-16</td>\n",
       "      <td>1.002509</td>\n",
       "      <td>-2.243313</td>\n",
       "      <td>-0.636274</td>\n",
       "      <td>-0.147999</td>\n",
       "      <td>0.487232</td>\n",
       "      <td>6.062095</td>\n",
       "    </tr>\n",
       "    <tr>\n",
       "      <th>sex_0.0</th>\n",
       "      <td>200.0</td>\n",
       "      <td>2.650000e-01</td>\n",
       "      <td>0.442441</td>\n",
       "      <td>0.000000</td>\n",
       "      <td>0.000000</td>\n",
       "      <td>0.000000</td>\n",
       "      <td>1.000000</td>\n",
       "      <td>1.000000</td>\n",
       "    </tr>\n",
       "    <tr>\n",
       "      <th>sex_1.0</th>\n",
       "      <td>200.0</td>\n",
       "      <td>7.350000e-01</td>\n",
       "      <td>0.442441</td>\n",
       "      <td>0.000000</td>\n",
       "      <td>0.000000</td>\n",
       "      <td>1.000000</td>\n",
       "      <td>1.000000</td>\n",
       "      <td>1.000000</td>\n",
       "    </tr>\n",
       "    <tr>\n",
       "      <th>fbs_0.0</th>\n",
       "      <td>200.0</td>\n",
       "      <td>8.350000e-01</td>\n",
       "      <td>0.372112</td>\n",
       "      <td>0.000000</td>\n",
       "      <td>1.000000</td>\n",
       "      <td>1.000000</td>\n",
       "      <td>1.000000</td>\n",
       "      <td>1.000000</td>\n",
       "    </tr>\n",
       "    <tr>\n",
       "      <th>fbs_1.0</th>\n",
       "      <td>200.0</td>\n",
       "      <td>1.650000e-01</td>\n",
       "      <td>0.372112</td>\n",
       "      <td>0.000000</td>\n",
       "      <td>0.000000</td>\n",
       "      <td>0.000000</td>\n",
       "      <td>0.000000</td>\n",
       "      <td>1.000000</td>\n",
       "    </tr>\n",
       "    <tr>\n",
       "      <th>num_0.0</th>\n",
       "      <td>200.0</td>\n",
       "      <td>5.450000e-01</td>\n",
       "      <td>0.499220</td>\n",
       "      <td>0.000000</td>\n",
       "      <td>0.000000</td>\n",
       "      <td>1.000000</td>\n",
       "      <td>1.000000</td>\n",
       "      <td>1.000000</td>\n",
       "    </tr>\n",
       "    <tr>\n",
       "      <th>num_1.0</th>\n",
       "      <td>200.0</td>\n",
       "      <td>4.550000e-01</td>\n",
       "      <td>0.499220</td>\n",
       "      <td>0.000000</td>\n",
       "      <td>0.000000</td>\n",
       "      <td>0.000000</td>\n",
       "      <td>1.000000</td>\n",
       "      <td>1.000000</td>\n",
       "    </tr>\n",
       "  </tbody>\n",
       "</table>\n",
       "</div>"
      ],
      "text/plain": [
       "          count          mean       std       min       25%       50%  \\\n",
       "age       200.0 -3.386180e-16  1.002509 -2.788287 -0.821627  0.161703   \n",
       "trestbps  200.0  8.071321e-16  1.002509 -2.123597 -0.651825 -0.085759   \n",
       "chol      200.0 -1.126876e-16  1.002509 -2.243313 -0.636274 -0.147999   \n",
       "sex_0.0   200.0  2.650000e-01  0.442441  0.000000  0.000000  0.000000   \n",
       "sex_1.0   200.0  7.350000e-01  0.442441  0.000000  0.000000  1.000000   \n",
       "fbs_0.0   200.0  8.350000e-01  0.372112  0.000000  1.000000  1.000000   \n",
       "fbs_1.0   200.0  1.650000e-01  0.372112  0.000000  0.000000  0.000000   \n",
       "num_0.0   200.0  5.450000e-01  0.499220  0.000000  0.000000  1.000000   \n",
       "num_1.0   200.0  4.550000e-01  0.499220  0.000000  0.000000  0.000000   \n",
       "\n",
       "               75%       max  \n",
       "age       0.707998  2.456140  \n",
       "trestbps  0.480307  2.744572  \n",
       "chol      0.487232  6.062095  \n",
       "sex_0.0   1.000000  1.000000  \n",
       "sex_1.0   1.000000  1.000000  \n",
       "fbs_0.0   1.000000  1.000000  \n",
       "fbs_1.0   0.000000  1.000000  \n",
       "num_0.0   1.000000  1.000000  \n",
       "num_1.0   1.000000  1.000000  "
      ]
     },
     "execution_count": 6,
     "metadata": {},
     "output_type": "execute_result"
    }
   ],
   "source": [
    "df_train.describe().T"
   ]
  },
  {
   "cell_type": "code",
   "execution_count": 7,
   "metadata": {
    "collapsed": false
   },
   "outputs": [
    {
     "data": {
      "text/html": [
       "<div>\n",
       "<table border=\"1\" class=\"dataframe\">\n",
       "  <thead>\n",
       "    <tr style=\"text-align: right;\">\n",
       "      <th></th>\n",
       "      <th>count</th>\n",
       "      <th>mean</th>\n",
       "      <th>std</th>\n",
       "      <th>min</th>\n",
       "      <th>25%</th>\n",
       "      <th>50%</th>\n",
       "      <th>75%</th>\n",
       "      <th>max</th>\n",
       "    </tr>\n",
       "  </thead>\n",
       "  <tbody>\n",
       "    <tr>\n",
       "      <th>age</th>\n",
       "      <td>97.0</td>\n",
       "      <td>-1.693949e-16</td>\n",
       "      <td>1.005195</td>\n",
       "      <td>-2.229457</td>\n",
       "      <td>-0.635982</td>\n",
       "      <td>0.160756</td>\n",
       "      <td>0.729854</td>\n",
       "      <td>2.437149</td>\n",
       "    </tr>\n",
       "    <tr>\n",
       "      <th>trestbps</th>\n",
       "      <td>97.0</td>\n",
       "      <td>4.269208e-16</td>\n",
       "      <td>1.005195</td>\n",
       "      <td>-2.130551</td>\n",
       "      <td>-0.675175</td>\n",
       "      <td>-0.115414</td>\n",
       "      <td>0.444346</td>\n",
       "      <td>3.802907</td>\n",
       "    </tr>\n",
       "    <tr>\n",
       "      <th>chol</th>\n",
       "      <td>97.0</td>\n",
       "      <td>2.758389e-16</td>\n",
       "      <td>1.005195</td>\n",
       "      <td>-2.473584</td>\n",
       "      <td>-0.698509</td>\n",
       "      <td>0.007486</td>\n",
       "      <td>0.814338</td>\n",
       "      <td>3.134038</td>\n",
       "    </tr>\n",
       "    <tr>\n",
       "      <th>sex_0.0</th>\n",
       "      <td>97.0</td>\n",
       "      <td>4.432990e-01</td>\n",
       "      <td>0.499355</td>\n",
       "      <td>0.000000</td>\n",
       "      <td>0.000000</td>\n",
       "      <td>0.000000</td>\n",
       "      <td>1.000000</td>\n",
       "      <td>1.000000</td>\n",
       "    </tr>\n",
       "    <tr>\n",
       "      <th>sex_1.0</th>\n",
       "      <td>97.0</td>\n",
       "      <td>5.567010e-01</td>\n",
       "      <td>0.499355</td>\n",
       "      <td>0.000000</td>\n",
       "      <td>0.000000</td>\n",
       "      <td>1.000000</td>\n",
       "      <td>1.000000</td>\n",
       "      <td>1.000000</td>\n",
       "    </tr>\n",
       "    <tr>\n",
       "      <th>fbs_0.0</th>\n",
       "      <td>97.0</td>\n",
       "      <td>8.969072e-01</td>\n",
       "      <td>0.305660</td>\n",
       "      <td>0.000000</td>\n",
       "      <td>1.000000</td>\n",
       "      <td>1.000000</td>\n",
       "      <td>1.000000</td>\n",
       "      <td>1.000000</td>\n",
       "    </tr>\n",
       "    <tr>\n",
       "      <th>fbs_1.0</th>\n",
       "      <td>97.0</td>\n",
       "      <td>1.030928e-01</td>\n",
       "      <td>0.305660</td>\n",
       "      <td>0.000000</td>\n",
       "      <td>0.000000</td>\n",
       "      <td>0.000000</td>\n",
       "      <td>0.000000</td>\n",
       "      <td>1.000000</td>\n",
       "    </tr>\n",
       "    <tr>\n",
       "      <th>num_0.0</th>\n",
       "      <td>97.0</td>\n",
       "      <td>5.257732e-01</td>\n",
       "      <td>0.501929</td>\n",
       "      <td>0.000000</td>\n",
       "      <td>0.000000</td>\n",
       "      <td>1.000000</td>\n",
       "      <td>1.000000</td>\n",
       "      <td>1.000000</td>\n",
       "    </tr>\n",
       "    <tr>\n",
       "      <th>num_1.0</th>\n",
       "      <td>97.0</td>\n",
       "      <td>4.742268e-01</td>\n",
       "      <td>0.501929</td>\n",
       "      <td>0.000000</td>\n",
       "      <td>0.000000</td>\n",
       "      <td>0.000000</td>\n",
       "      <td>1.000000</td>\n",
       "      <td>1.000000</td>\n",
       "    </tr>\n",
       "  </tbody>\n",
       "</table>\n",
       "</div>"
      ],
      "text/plain": [
       "          count          mean       std       min       25%       50%  \\\n",
       "age        97.0 -1.693949e-16  1.005195 -2.229457 -0.635982  0.160756   \n",
       "trestbps   97.0  4.269208e-16  1.005195 -2.130551 -0.675175 -0.115414   \n",
       "chol       97.0  2.758389e-16  1.005195 -2.473584 -0.698509  0.007486   \n",
       "sex_0.0    97.0  4.432990e-01  0.499355  0.000000  0.000000  0.000000   \n",
       "sex_1.0    97.0  5.567010e-01  0.499355  0.000000  0.000000  1.000000   \n",
       "fbs_0.0    97.0  8.969072e-01  0.305660  0.000000  1.000000  1.000000   \n",
       "fbs_1.0    97.0  1.030928e-01  0.305660  0.000000  0.000000  0.000000   \n",
       "num_0.0    97.0  5.257732e-01  0.501929  0.000000  0.000000  1.000000   \n",
       "num_1.0    97.0  4.742268e-01  0.501929  0.000000  0.000000  0.000000   \n",
       "\n",
       "               75%       max  \n",
       "age       0.729854  2.437149  \n",
       "trestbps  0.444346  3.802907  \n",
       "chol      0.814338  3.134038  \n",
       "sex_0.0   1.000000  1.000000  \n",
       "sex_1.0   1.000000  1.000000  \n",
       "fbs_0.0   1.000000  1.000000  \n",
       "fbs_1.0   0.000000  1.000000  \n",
       "num_0.0   1.000000  1.000000  \n",
       "num_1.0   1.000000  1.000000  "
      ]
     },
     "execution_count": 7,
     "metadata": {},
     "output_type": "execute_result"
    }
   ],
   "source": [
    "df_test.describe().T"
   ]
  },
  {
   "cell_type": "code",
   "execution_count": 8,
   "metadata": {
    "collapsed": false
   },
   "outputs": [
    {
     "name": "stdout",
     "output_type": "stream",
     "text": [
      "training input shape: (200, 7)\n",
      "testing input shape: (97, 7)\n",
      "training output shape: (200, 2)\n",
      "testing output shape: (97, 2)\n"
     ]
    }
   ],
   "source": [
    "# define input and output values\n",
    "inputs_train  = df_train.drop(['num_0.0','num_1.0'],axis=1).values\n",
    "inputs_test   = df_test.drop(['num_0.0','num_1.0'],axis=1).values\n",
    "outputs_train = df_train[['num_0.0','num_1.0']].values\n",
    "outputs_test  = df_test[['num_0.0','num_1.0']].values\n",
    "\n",
    "print('training input shape:',inputs_train.shape)\n",
    "print('testing input shape:',inputs_test.shape)\n",
    "print('training output shape:',outputs_train.shape)\n",
    "print('testing output shape:',outputs_test.shape)"
   ]
  },
  {
   "cell_type": "code",
   "execution_count": 40,
   "metadata": {
    "collapsed": false
   },
   "outputs": [],
   "source": [
    "# define TensorFlow computation graph\n",
    "\n",
    "x = tf.constant(inputs_train, dtype='float32', shape=[200, 7])\n",
    "y = tf.constant(outputs_train, dtype='float32', shape=[200, 2])\n",
    "x_test = tf.constant(inputs_test, dtype='float32', shape=[97, 7])\n",
    "\n",
    "W = tf.Variable(tf.truncated_normal([7, 2], stddev=0.01))\n",
    "b = tf.Variable(tf.truncated_normal([1, 2], stddev=0.01))\n",
    "\n",
    "logits = tf.matmul(x, W) + b\n",
    "CE = tf.reduce_mean(tf.reduce_sum(-y * tf.log(tf.nn.softmax(logits)), reduction_indices=[1]))\n",
    "\n",
    "optimizer = tf.train.AdamOptimizer().minimize(CE)\n",
    "\n",
    "y_train_pred = tf.nn.softmax(tf.matmul(x, W) + b)\n",
    "y_test_pred = tf.nn.softmax(tf.matmul(x_test, W) + b)\n",
    "\n",
    "init = tf.initialize_all_variables()"
   ]
  },
  {
   "cell_type": "code",
   "execution_count": 41,
   "metadata": {
    "collapsed": false
   },
   "outputs": [],
   "source": [
    "# create a graph session and initialize\n",
    "sess = tf.Session()\n",
    "sess.run(init)"
   ]
  },
  {
   "cell_type": "code",
   "execution_count": 42,
   "metadata": {
    "collapsed": false
   },
   "outputs": [
    {
     "name": "stdout",
     "output_type": "stream",
     "text": [
      "step = 0      cross entropy = 0.696132  train accuracy = 0.410000  test accuracy = 0.381443\n",
      "step = 100    cross entropy = 0.636231  train accuracy = 0.680000  test accuracy = 0.608247\n",
      "step = 200    cross entropy = 0.607548  train accuracy = 0.695000  test accuracy = 0.577320\n",
      "step = 300    cross entropy = 0.590887  train accuracy = 0.700000  test accuracy = 0.577320\n",
      "step = 400    cross entropy = 0.581196  train accuracy = 0.715000  test accuracy = 0.577320\n",
      "step = 500    cross entropy = 0.575605  train accuracy = 0.705000  test accuracy = 0.577320\n",
      "step = 600    cross entropy = 0.572412  train accuracy = 0.705000  test accuracy = 0.587629\n",
      "step = 700    cross entropy = 0.570620  train accuracy = 0.705000  test accuracy = 0.587629\n",
      "step = 800    cross entropy = 0.569640  train accuracy = 0.705000  test accuracy = 0.597938\n",
      "step = 900    cross entropy = 0.569122  train accuracy = 0.705000  test accuracy = 0.597938\n",
      "step = 1000   cross entropy = 0.568860  train accuracy = 0.705000  test accuracy = 0.597938\n",
      "done!\n"
     ]
    }
   ],
   "source": [
    "# minimize CE\n",
    "MAXSTEPS = 1000\n",
    "for step in range(MAXSTEPS+1):\n",
    "    (_,ce,outputs_train_pred,outputs_test_pred) = sess.run([optimizer,CE,y_train_pred,y_test_pred])\n",
    "    if (step % 100) == 0:\n",
    "        acc_train = accuracy_score(outputs_train.argmax(axis=1),outputs_train_pred.argmax(axis=1))\n",
    "        acc_test  = accuracy_score(outputs_test.argmax(axis=1),outputs_test_pred.argmax(axis=1))\n",
    "        print('step = %-5d  cross entropy = %f  train accuracy = %f  test accuracy = %f' % (step,ce,acc_train,acc_test))\n",
    "print('done!')"
   ]
  },
  {
   "cell_type": "code",
   "execution_count": null,
   "metadata": {
    "collapsed": true
   },
   "outputs": [],
   "source": []
  }
 ],
 "metadata": {
  "anaconda-cloud": {},
  "kernelspec": {
   "display_name": "Python [Root]",
   "language": "python",
   "name": "Python [Root]"
  },
  "language_info": {
   "codemirror_mode": {
    "name": "ipython",
    "version": 3
   },
   "file_extension": ".py",
   "mimetype": "text/x-python",
   "name": "python",
   "nbconvert_exporter": "python",
   "pygments_lexer": "ipython3",
   "version": "3.5.2"
  }
 },
 "nbformat": 4,
 "nbformat_minor": 0
}
