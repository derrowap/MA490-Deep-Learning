{
 "cells": [
  {
   "cell_type": "markdown",
   "metadata": {},
   "source": [
    "# Lesson 01 - Simple Linear Regression and MSE"
   ]
  },
  {
   "cell_type": "code",
   "execution_count": 2,
   "metadata": {
    "collapsed": true
   },
   "outputs": [],
   "source": [
    "import numpy as np\n",
    "import pandas as pd\n",
    "import matplotlib.pyplot as plt\n",
    "%matplotlib inline"
   ]
  },
  {
   "cell_type": "code",
   "execution_count": 3,
   "metadata": {
    "collapsed": false
   },
   "outputs": [
    {
     "name": "stdout",
     "output_type": "stream",
     "text": [
      "     height    weight\n",
      "0  67.17704  127.8719\n",
      "1  67.06687  123.2179\n",
      "2  72.42515  129.0739\n",
      "3  68.80719  142.8541\n",
      "4  69.20003  131.5186\n",
      "5  69.51925  142.2807\n",
      "6  66.65205  112.4741\n",
      "7  66.55309  117.9982\n",
      "8  65.65343  108.2289\n",
      "9  68.06118  119.3436\n"
     ]
    }
   ],
   "source": [
    "# import the data\n",
    "df = pd.read_csv('../Data/height_weight_10.csv')\n",
    "print(df)"
   ]
  },
  {
   "cell_type": "code",
   "execution_count": 4,
   "metadata": {
    "collapsed": false
   },
   "outputs": [],
   "source": [
    "# define function and MSE functions\n",
    "def f(x, a, b):\n",
    "    return a * x + b\n",
    "def MSE(u, v):\n",
    "    return ((u - v) ** 2).mean()"
   ]
  },
  {
   "cell_type": "code",
   "execution_count": 23,
   "metadata": {
    "collapsed": false
   },
   "outputs": [
    {
     "name": "stdout",
     "output_type": "stream",
     "text": [
      "best results found after 1000 iterations\n",
      "a = 4.0, b = -147.2, MSE = 71\n"
     ]
    }
   ],
   "source": [
    "x = df.height\n",
    "y = df.weight\n",
    "\n",
    "# randomly choose a set of values (size) with mean (loc) and std (scale)\n",
    "samples = 1000\n",
    "aa = np.random.normal(loc=4, scale=1, size=samples)\n",
    "bb = np.random.normal(loc=-150, scale=5, size=samples)\n",
    "\n",
    "# initialize best guesses\n",
    "bestMSE = float('inf')\n",
    "bestA = -1\n",
    "bestB = -1\n",
    "\n",
    "# iterate through each guess and find the best set of 'a' and 'b'\n",
    "for i in range(len(aa)):\n",
    "    a = aa[i]\n",
    "    b = bb[i]\n",
    "    mse = MSE(f(x, a, b), y)\n",
    "    if mse < bestMSE:\n",
    "        bestA = a\n",
    "        bestB = b\n",
    "        bestMSE = mse\n",
    "\n",
    "print('best results found after %d iterations' % len(aa))\n",
    "print('a = %0.1f, b = %0.1f, MSE = %.0f' % (bestA, bestB, bestMSE))"
   ]
  },
  {
   "cell_type": "markdown",
   "metadata": {},
   "source": [
    "Best results found were:\n",
    "a = 4.0, b = -147.2, MSE = 71"
   ]
  }
 ],
 "metadata": {
  "anaconda-cloud": {},
  "kernelspec": {
   "display_name": "Python [Root]",
   "language": "python",
   "name": "Python [Root]"
  },
  "language_info": {
   "codemirror_mode": {
    "name": "ipython",
    "version": 3
   },
   "file_extension": ".py",
   "mimetype": "text/x-python",
   "name": "python",
   "nbconvert_exporter": "python",
   "pygments_lexer": "ipython3",
   "version": "3.5.2"
  }
 },
 "nbformat": 4,
 "nbformat_minor": 0
}
