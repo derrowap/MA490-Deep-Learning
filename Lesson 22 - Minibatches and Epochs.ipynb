{
 "cells": [
  {
   "cell_type": "markdown",
   "metadata": {},
   "source": [
    "# Lesson 22 - Minibatches and Epochs\n",
    "Austin Derrow-Pinion CM 208"
   ]
  },
  {
   "cell_type": "code",
   "execution_count": 1,
   "metadata": {
    "collapsed": true
   },
   "outputs": [],
   "source": [
    "import numpy as np"
   ]
  },
  {
   "cell_type": "code",
   "execution_count": 2,
   "metadata": {
    "collapsed": true
   },
   "outputs": [],
   "source": [
    "BATCH_SIZE = 6\n",
    "EPOCHS = 2\n",
    "N = 40\n",
    "np.random.seed(0)"
   ]
  },
  {
   "cell_type": "code",
   "execution_count": 3,
   "metadata": {
    "collapsed": false
   },
   "outputs": [
    {
     "name": "stdout",
     "output_type": "stream",
     "text": [
      "EPOCH = 1\n",
      "minibatch = 1\t[22 20 25  4 10 15]\n",
      "minibatch = 2\t[28 11 18 29 27 35]\n",
      "minibatch = 3\t[37  2 39 30 34 16]\n",
      "minibatch = 4\t[36  8 13  5 17 14]\n",
      "minibatch = 5\t[33  7 32  1 26 12]\n",
      "minibatch = 6\t[31 24  6 23 21 19]\n",
      "minibatch = 6\t[ 9 38  3  0]\n",
      "EPOCH = 2\n",
      "minibatch = 1\t[12 13 26 36 25 18]\n",
      "minibatch = 2\t[22 33 14 38  2 34]\n",
      "minibatch = 3\t[24 27  3 16 29  7]\n",
      "minibatch = 4\t[19  1 37  9 30 15]\n",
      "minibatch = 5\t[17 20  8  6  5 21]\n",
      "minibatch = 6\t[ 4 39  0 28 11 35]\n",
      "minibatch = 6\t[23 10 31 32]\n"
     ]
    }
   ],
   "source": [
    "array = np.arange(N)\n",
    "\n",
    "for i in range(EPOCHS):\n",
    "    print(\"EPOCH = %d\" % (i+1))\n",
    "    \n",
    "    permuted = np.random.permutation(array)\n",
    "    \n",
    "    extraAtEnd = N % BATCH_SIZE\n",
    "    numMinibatches = int((N - extraAtEnd) / BATCH_SIZE)\n",
    "    for j in range(numMinibatches):\n",
    "        beginningIndex = j*BATCH_SIZE\n",
    "        batch = str(permuted[beginningIndex:beginningIndex+BATCH_SIZE])\n",
    "        print(\"minibatch = %d\\t%s\" % (j+1, batch))\n",
    "    if extraAtEnd != 0:\n",
    "        print(\"minibatch = %d\\t%s\" % (numMinibatches, str(permuted[N-extraAtEnd:N])))"
   ]
  },
  {
   "cell_type": "code",
   "execution_count": null,
   "metadata": {
    "collapsed": true
   },
   "outputs": [],
   "source": []
  }
 ],
 "metadata": {
  "anaconda-cloud": {},
  "kernelspec": {
   "display_name": "Python [Root]",
   "language": "python",
   "name": "Python [Root]"
  },
  "language_info": {
   "codemirror_mode": {
    "name": "ipython",
    "version": 3
   },
   "file_extension": ".py",
   "mimetype": "text/x-python",
   "name": "python",
   "nbconvert_exporter": "python",
   "pygments_lexer": "ipython3",
   "version": "3.5.2"
  }
 },
 "nbformat": 4,
 "nbformat_minor": 0
}
